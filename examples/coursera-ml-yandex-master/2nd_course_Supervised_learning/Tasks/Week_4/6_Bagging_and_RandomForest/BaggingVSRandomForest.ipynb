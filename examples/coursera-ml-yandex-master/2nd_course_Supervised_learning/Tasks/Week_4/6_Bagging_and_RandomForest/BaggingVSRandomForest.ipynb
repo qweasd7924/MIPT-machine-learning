{
 "cells": [
  {
   "cell_type": "markdown",
   "metadata": {},
   "source": [
    "# Bagging and RandomForest"
   ]
  },
  {
   "cell_type": "markdown",
   "metadata": {},
   "source": [
    "## Digits dataset"
   ]
  },
  {
   "cell_type": "code",
   "execution_count": 77,
   "metadata": {
    "collapsed": false
   },
   "outputs": [],
   "source": [
    "from sklearn import datasets, cross_validation, tree, ensemble, grid_search\n",
    "import matplotlib.pyplot as plt\n",
    "import numpy as np\n",
    "\n",
    "%matplotlib inline"
   ]
  },
  {
   "cell_type": "code",
   "execution_count": 52,
   "metadata": {
    "collapsed": false
   },
   "outputs": [
    {
     "name": "stdout",
     "output_type": "stream",
     "text": [
      "(1797, 64)\n",
      "(1797,)\n"
     ]
    }
   ],
   "source": [
    "digits_dataset = load_digits()\n",
    "\n",
    "X_train = digits_dataset.data\n",
    "y_train = digits_dataset.target\n",
    "\n",
    "print(X_train.shape)\n",
    "print(y_train.shape)"
   ]
  },
  {
   "cell_type": "markdown",
   "metadata": {},
   "source": [
    "#### 1. Using DecisionTreeClassifier here:"
   ]
  },
  {
   "cell_type": "code",
   "execution_count": 38,
   "metadata": {
    "collapsed": false
   },
   "outputs": [],
   "source": [
    "def write_answer_1(answer):\n",
    "    with open('answer_1.txt', 'w') as file:\n",
    "        file.write(str(answer))"
   ]
  },
  {
   "cell_type": "code",
   "execution_count": 39,
   "metadata": {
    "collapsed": false
   },
   "outputs": [
    {
     "name": "stdout",
     "output_type": "stream",
     "text": [
      "[ 0.8         0.84153005  0.83977901  0.79444444  0.78212291  0.87709497\n",
      "  0.88268156  0.80898876  0.82485876  0.81818182]\n",
      "0.826968228524\n"
     ]
    }
   ],
   "source": [
    "tree_clf = DecisionTreeClassifier()\n",
    "tree_clf.fit(X_train, y_train)\n",
    "\n",
    "scores_1 = cross_val_score(tree_clf, X_train, y_train, cv=10)\n",
    "print(scores_1)\n",
    "print(scores_1.mean())\n",
    "\n",
    "write_answer_1(scores_1.mean())"
   ]
  },
  {
   "cell_type": "markdown",
   "metadata": {},
   "source": [
    "#### 2. Using BaggingClassifier:"
   ]
  },
  {
   "cell_type": "code",
   "execution_count": 46,
   "metadata": {
    "collapsed": true
   },
   "outputs": [],
   "source": [
    "def write_answer_2(answer):\n",
    "    with open('answer_2.txt', 'w') as file:\n",
    "        file.write(str(answer))"
   ]
  },
  {
   "cell_type": "code",
   "execution_count": 47,
   "metadata": {
    "collapsed": false
   },
   "outputs": [
    {
     "name": "stdout",
     "output_type": "stream",
     "text": [
      "[ 0.88648649  0.96174863  0.90055249  0.93333333  0.92178771  0.97765363\n",
      "  0.96648045  0.91573034  0.88135593  0.9375    ]\n",
      "0.928262899688\n"
     ]
    }
   ],
   "source": [
    "bag_clf = ensemble.BaggingClassifier(n_estimators=100)\n",
    "bag_clf.fit(X_train, y_train)\n",
    "\n",
    "scores_2 = cross_val_score(bag_clf, X_train, y_train, cv=10)\n",
    "print(scores_2)\n",
    "print(scores_2.mean())\n",
    "\n",
    "write_answer_2(scores_2.mean())"
   ]
  },
  {
   "cell_type": "markdown",
   "metadata": {},
   "source": [
    "#### 3. Using $\\sqrt{d}$ features for fitting:"
   ]
  },
  {
   "cell_type": "code",
   "execution_count": 59,
   "metadata": {
    "collapsed": false
   },
   "outputs": [],
   "source": [
    "def write_answer_3(answer):\n",
    "    with open('answer_3.txt', 'w') as file:\n",
    "        file.write(str(answer))"
   ]
  },
  {
   "cell_type": "code",
   "execution_count": 61,
   "metadata": {
    "collapsed": false
   },
   "outputs": [
    {
     "name": "stdout",
     "output_type": "stream",
     "text": [
      "[ 0.90810811  0.96174863  0.9281768   0.92777778  0.9273743   0.94413408\n",
      "  0.94972067  0.97191011  0.92090395  0.90340909]\n",
      "0.93432635237\n"
     ]
    }
   ],
   "source": [
    "opt_bag_clf = ensemble.BaggingClassifier(n_estimators=100, max_features=int(np.sqrt(X_train.shape[1])))\n",
    "opt_bag_clf.fit(X_train, y_train)\n",
    "\n",
    "scores_3 = cross_val_score(opt_bag_clf, X_train, y_train, cv=10)\n",
    "print(scores_3)\n",
    "print(scores_3.mean())\n",
    "\n",
    "write_answer_3(scores_3.mean())"
   ]
  },
  {
   "cell_type": "markdown",
   "metadata": {},
   "source": [
    "#### 4. Using $\\sqrt{d}$ features for splitting every vertex:"
   ]
  },
  {
   "cell_type": "code",
   "execution_count": 62,
   "metadata": {
    "collapsed": true
   },
   "outputs": [],
   "source": [
    "def write_answer_4(answer):\n",
    "    with open('answer_4.txt', 'w') as file:\n",
    "        file.write(str(answer))"
   ]
  },
  {
   "cell_type": "code",
   "execution_count": 64,
   "metadata": {
    "collapsed": false
   },
   "outputs": [
    {
     "name": "stdout",
     "output_type": "stream",
     "text": [
      "[ 0.92432432  0.9726776   0.95027624  0.95        0.94972067  0.98324022\n",
      "  0.97765363  0.96067416  0.94350282  0.9375    ]\n",
      "0.954956967035\n"
     ]
    }
   ],
   "source": [
    "rand_bag_clf = ensemble.BaggingClassifier(base_estimator=DecisionTreeClassifier(max_features=int(np.sqrt(X_train.shape[1]))), \n",
    "                                          n_estimators=100)\n",
    "rand_bag_clf.fit(X_train, y_train)\n",
    "\n",
    "scores_4 = cross_val_score(rand_bag_clf, X_train, y_train, cv=10)\n",
    "print(scores_4)\n",
    "print(scores_4.mean())\n",
    "\n",
    "write_answer_4(scores_4.mean())"
   ]
  },
  {
   "cell_type": "markdown",
   "metadata": {},
   "source": [
    "#### 5. RandomForestClassifier() from sklearn.ensemble:"
   ]
  },
  {
   "cell_type": "code",
   "execution_count": 67,
   "metadata": {
    "collapsed": false
   },
   "outputs": [
    {
     "name": "stdout",
     "output_type": "stream",
     "text": [
      "[ 0.88108108  0.9726776   0.91160221  0.88888889  0.91061453  0.94413408\n",
      "  0.93854749  0.94382022  0.89265537  0.90909091]\n",
      "0.919311236597\n"
     ]
    }
   ],
   "source": [
    "rf_clf = ensemble.RandomForestClassifier()\n",
    "rf_clf.fit(X_train, y_train)\n",
    "\n",
    "scores_5 = cross_val_score(rf_clf, X_train, y_train, cv=10)\n",
    "print(scores_5)\n",
    "print(scores_5.mean())"
   ]
  },
  {
   "cell_type": "markdown",
   "metadata": {},
   "source": [
    "#### Tuning different hyperparameters"
   ]
  },
  {
   "cell_type": "code",
   "execution_count": 85,
   "metadata": {
    "collapsed": false
   },
   "outputs": [],
   "source": [
    "parameters_grid =  {\n",
    "    'n_estimators' : [5, 10, 15, 30, 50, 100, 150, 200, 300, 500],\n",
    "    'max_features' : [1, 2, 3, 4, 5, 10, 20, 30, 40, 50, 60],\n",
    "    'max_depth' : [2, 4, 6, 8, 10, 20, 30, 50, 100],\n",
    "}"
   ]
  },
  {
   "cell_type": "markdown",
   "metadata": {},
   "source": [
    "1. n_esimators:"
   ]
  },
  {
   "cell_type": "code",
   "execution_count": 81,
   "metadata": {
    "collapsed": false
   },
   "outputs": [
    {
     "data": {
      "image/png": "[encoded data removed]",
      "text/plain": [
       "<matplotlib.figure.Figure at 0x7fe684c844e0>"
      ]
     },
     "metadata": {},
     "output_type": "display_data"
    }
   ],
   "source": [
    "mean_score = []\n",
    "for n_trees in parameters_grid['n_estimators']:\n",
    "    scores = cross_val_score(ensemble.RandomForestClassifier(n_estimators=n_trees), X_train, y_train, cv=5)\n",
    "    mean_score.append(scores.mean())\n",
    "    \n",
    "plt.plot(parameters_grid['n_estimators'], mean_score)\n",
    "plt.xlabel('n_estimators')\n",
    "plt.ylabel('mean_score')\n",
    "plt.show()"
   ]
  },
  {
   "cell_type": "markdown",
   "metadata": {},
   "source": [
    "2. max_features:"
   ]
  },
  {
   "cell_type": "code",
   "execution_count": 87,
   "metadata": {
    "collapsed": false
   },
   "outputs": [
    {
     "data": {
      "image/png": "[encoded data removed]",
      "text/plain": [
       "<matplotlib.figure.Figure at 0x7fe684b7a320>"
      ]
     },
     "metadata": {},
     "output_type": "display_data"
    }
   ],
   "source": [
    "mean_score = []\n",
    "for max_fts in parameters_grid['max_features']:\n",
    "    scores = cross_val_score(ensemble.RandomForestClassifier(max_features=max_fts), X_train, y_train, cv=5)\n",
    "    mean_score.append(scores.mean())\n",
    "    \n",
    "plt.plot(parameters_grid['max_features'], mean_score)\n",
    "plt.xlabel('max_features')\n",
    "plt.ylabel('mean_score')\n",
    "plt.show()"
   ]
  },
  {
   "cell_type": "markdown",
   "metadata": {},
   "source": [
    "3. max_depth:"
   ]
  },
  {
   "cell_type": "code",
   "execution_count": 88,
   "metadata": {
    "collapsed": false
   },
   "outputs": [
    {
     "data": {
      "image/png": "[encoded data removed]",
      "text/plain": [
       "<matplotlib.figure.Figure at 0x7fe684b97400>"
      ]
     },
     "metadata": {},
     "output_type": "display_data"
    }
   ],
   "source": [
    "mean_score = []\n",
    "for depth in parameters_grid['max_depth']:\n",
    "    scores = cross_val_score(ensemble.RandomForestClassifier(max_depth=depth), X_train, y_train, cv=5)\n",
    "    mean_score.append(scores.mean())\n",
    "    \n",
    "plt.plot(parameters_grid['max_depth'], mean_score)\n",
    "plt.xlabel('max_depth')\n",
    "plt.ylabel('mean_score')\n",
    "plt.show()"
   ]
  }
 ],
 "metadata": {
  "kernelspec": {
   "display_name": "Python 3",
   "language": "python",
   "name": "python3"
  },
  "language_info": {
   "codemirror_mode": {
    "name": "ipython",
    "version": 3
   },
   "file_extension": ".py",
   "mimetype": "text/x-python",
   "name": "python",
   "nbconvert_exporter": "python",
   "pygments_lexer": "ipython3",
   "version": "3.5.2"
  }
 },
 "nbformat": 4,
 "nbformat_minor": 0
}
