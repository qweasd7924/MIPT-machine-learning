{
 "cells": [
  {
   "cell_type": "code",
   "execution_count": 11,
   "metadata": {
    "collapsed": false
   },
   "outputs": [
    {
     "data": {
      "text/plain": [
       "61"
      ]
     },
     "execution_count": 11,
     "metadata": {},
     "output_type": "execute_result"
    }
   ],
   "source": [
    "# import libraries\n",
    "import math\n",
    "import scipy\n",
    "import numpy as np\n",
    "from scipy import linalg\n",
    "from matplotlib import mlab\n",
    "from matplotlib import pylab\n",
    "\n",
    "# define our function that needs to be approximated\n",
    "def f(x):\n",
    "    return math.sin(x / 5.0) * math.exp(x / 10.0) + 5 * math.exp(-x / 2.0)\n",
    "# define polynomial functions of different degrees (needs for plotting them)\n",
    "def poly1(w, x):\n",
    "    return w[0][0] + w[1][0] * x\n",
    "\n",
    "def poly2(w, x):\n",
    "    return w[0][0] + w[1][0] * x + w[2][0] * (x ** 2)\n",
    "\n",
    "def poly3(w, x):\n",
    "    return w[0][0] + w[1][0] * x + w[2][0] * (x ** 2) + w[3][0] * (x ** 3)\n",
    "\n",
    "# x axis: start, end, step\n",
    "xmin = 1\n",
    "xmax = 15\n",
    "dx = 0.1\n",
    "xlist = mlab.frange(xmin, xmax, dx)\n",
    "# if we want to plot our function\n",
    "# ylist = [f(x) for x in xlist]\n",
    "# pylab.plot(xlist, ylist)\n",
    "# pylab.show()\n",
    "\n",
    "# First degree polynom\n",
    "a = np.array([[1, 1], [1, 15]])\n",
    "b = np.array([[f(1)], [f(15)]])\n",
    "w = linalg.solve(a, b)\n",
    "# if we want to plot it\n",
    "# ylist = [poly1(w, x) for x in xlist]\n",
    "# pylab.plot(xlist, ylist)\n",
    "# pylab.show()\n",
    "\n",
    "# Second degree polynom\n",
    "a = np.array([[1, 1, 1], [1, 8, 64], [1, 15, 225]])\n",
    "b = np.array([[f(1)], [f(8)], [f(15)]])\n",
    "w = linalg.solve(a, b)\n",
    "# if we want to plot it\n",
    "# ylist = [poly2(w, x) for x in xlist]\n",
    "# pylab.plot(xlist, ylist)\n",
    "# pylab.show()\n",
    "\n",
    "# Third degree polynom\n",
    "a = np.array([[1, 1, 1, 1], [1, 4, 16, 64], [1, 10, 100, 1000], [1, 15, 225, 3375]])\n",
    "b = np.array([[f(1)], [f(4)], [f(10)], [f(15)]])\n",
    "w = linalg.solve(a, b)\n",
    "# if we want to plot it\n",
    "# ylist = [poly3(w, x) for x in xlist]\n",
    "# pylab.plot(xlist, ylist)\n",
    "# pylab.show()\n",
    "\n",
    "# printing the answer\n",
    "file_out = open('submission-2.txt', 'w')\n",
    "file_out.write(str(str(w[0, 0]) + ' ' + str(w[1, 0]) + ' ' + str(w[2, 0]) + ' ' + str(w[3, 0])))"
   ]
  },
  {
   "cell_type": "code",
   "execution_count": null,
   "metadata": {
    "collapsed": true
   },
   "outputs": [],
   "source": []
  }
 ],
 "metadata": {
  "kernelspec": {
   "display_name": "Python 3",
   "language": "python",
   "name": "python3"
  },
  "language_info": {
   "codemirror_mode": {
    "name": "ipython",
    "version": 3
   },
   "file_extension": ".py",
   "mimetype": "text/x-python",
   "name": "python",
   "nbconvert_exporter": "python",
   "pygments_lexer": "ipython3",
   "version": "3.5.1"
  }
 },
 "nbformat": 4,
 "nbformat_minor": 0
}
