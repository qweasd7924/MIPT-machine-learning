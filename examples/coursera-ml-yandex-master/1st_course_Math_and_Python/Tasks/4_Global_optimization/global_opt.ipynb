{
 "cells": [
  {
   "cell_type": "code",
   "execution_count": 3,
   "metadata": {
    "collapsed": false
   },
   "outputs": [
    {
     "name": "stdout",
     "output_type": "stream",
     "text": [
      "     fun: -11.898894665981304\n",
      "     jac: array([ -1.77635684e-07])\n",
      " message: 'Optimization terminated successfully.'\n",
      "    nfev: 98\n",
      "     nit: 5\n",
      " success: True\n",
      "       x: array([ 25.88019278])\n"
     ]
    }
   ],
   "source": [
    "from matplotlib import pylab\n",
    "from matplotlib import mlab\n",
    "from scipy import optimize\n",
    "import math\n",
    "\n",
    "# define our function\n",
    "def f(x):\n",
    "    return math.sin(x / 5.0) * math.exp(x / 10.0) + 5 * math.exp(-x / 2.0)\n",
    "\n",
    "# x axis: start, end and step\n",
    "xmin = 1\n",
    "xmax = 30\n",
    "dx = 0.1\n",
    "xlist = mlab.frange(xmin, xmax, dx)\n",
    "\n",
    "# if we want to plot our fucntion\n",
    "ylist = [f(x) for x in xlist]\n",
    "pylab.plot(xlist, ylist)\n",
    "pylab.show()\n",
    "\n",
    "bounds = [(1, 30)]\n",
    "minimum = optimize.differential_evolution(f, bounds)\n",
    "print(minimum)"
   ]
  },
  {
   "cell_type": "code",
   "execution_count": null,
   "metadata": {
    "collapsed": true
   },
   "outputs": [],
   "source": []
  }
 ],
 "metadata": {
  "kernelspec": {
   "display_name": "Python 3",
   "language": "python",
   "name": "python3"
  },
  "language_info": {
   "codemirror_mode": {
    "name": "ipython",
    "version": 3
   },
   "file_extension": ".py",
   "mimetype": "text/x-python",
   "name": "python",
   "nbconvert_exporter": "python",
   "pygments_lexer": "ipython3",
   "version": "3.5.1"
  }
 },
 "nbformat": 4,
 "nbformat_minor": 0
}
