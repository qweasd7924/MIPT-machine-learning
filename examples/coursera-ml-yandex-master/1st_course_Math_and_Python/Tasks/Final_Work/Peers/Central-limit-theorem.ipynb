{
 "cells": [
  {
   "cell_type": "markdown",
   "metadata": {},
   "source": [
    "# Центральная предельная теорема своими руками"
   ]
  },
  {
   "cell_type": "code",
   "execution_count": 1,
   "metadata": {
    "collapsed": true
   },
   "outputs": [],
   "source": [
    "import pandas as pd\n",
    "import numpy as np\n",
    "import math\n",
    "import matplotlib.pyplot as plt\n",
    "import scipy.stats as sts\n",
    "%matplotlib inline"
   ]
  },
  {
   "cell_type": "markdown",
   "metadata": {},
   "source": [
    "## Сравнение выборки с теоретической плотностью распределения"
   ]
  },
  {
   "cell_type": "markdown",
   "metadata": {},
   "source": [
    "Для примера было выбрано распределение хи-квадрат $\\chi^2_k$, с числом степеней свободы $k = 3$. \n",
    "\n",
    "Математическое ожидание = $k$, \n",
    "\n",
    "Дисперсия = $2k$, \n",
    "\n",
    "Среднеквадратичное отклонение = $\\sqrt(2k)$"
   ]
  },
  {
   "cell_type": "code",
   "execution_count": 2,
   "metadata": {
    "collapsed": true
   },
   "outputs": [],
   "source": [
    "#задаем распределение\n",
    "k = 3\n",
    "x = np.linspace(0,30,100)\n",
    "chi = sts.chi2(k)\n",
    "\n",
    "#теоретическая ф-я плотности распределения\n",
    "pdf = chi.pdf(x)\n",
    "\n",
    "#генерируем выборку объема 1000\n",
    "chi_p = chi.rvs(size=1000)"
   ]
  },
  {
   "cell_type": "code",
   "execution_count": 3,
   "metadata": {
    "collapsed": false
   },
   "outputs": [
    {
     "data": {
      "text/plain": [
       "<matplotlib.text.Text at 0x7bcfc10>"
      ]
     },
     "execution_count": 3,
     "metadata": {},
     "output_type": "execute_result"
    },
    {
     "data": {
      "image/png": "[encoded data removed]",
      "text/plain": [
       "<matplotlib.figure.Figure at 0x7bc0ef0>"
      ]
     },
     "metadata": {},
     "output_type": "display_data"
    }
   ],
   "source": [
    "#строим графики\n",
    "plt.plot(x, pdf, label='theoretical PDF')\n",
    "plt.title(\"PDF ($\\chi^2_k$)\")\n",
    "\n",
    "plt.hist(chi_p, normed=True, label='random selection')\n",
    "plt.legend(loc='upper right')\n",
    "plt.ylabel('$f(x)$')\n",
    "plt.xlabel('$x$')"
   ]
  },
  {
   "cell_type": "markdown",
   "metadata": {},
   "source": [
    "## Оценка распределения выборочного среднего "
   ]
  },
  {
   "cell_type": "markdown",
   "metadata": {},
   "source": [
    "Для разных объемов выборок (n = 3, 5, 10, 50) генерируем 1000 выборок и для каждой считаем среднее. Т.е. для каждого n получаем выборку средних.\n",
    "\n",
    "Для каждого из n генерируем нормальное распределение, которое аппроксимирует распределение выборочных средних.\n",
    "\n",
    "Параметры нормального распределения:\n",
    "\n",
    "Математическое ожидание = $k$, \n",
    "\n",
    "Дисперсия = $2k/n$, \n",
    "\n",
    "Среднеквадратичное отклонение = $\\sqrt(2k/n)$"
   ]
  },
  {
   "cell_type": "markdown",
   "metadata": {},
   "source": [
    "Для объема выборки n=3"
   ]
  },
  {
   "cell_type": "code",
   "execution_count": 4,
   "metadata": {
    "collapsed": true
   },
   "outputs": [],
   "source": [
    "#генерируем 1000 выборок размера n и считаем для каждой оценку математического ожидания\n",
    "n = 3\n",
    "z = []\n",
    "i = 0\n",
    "while i < 1000:\n",
    "    chi_p1 = chi.rvs(size=n)\n",
    "    mu_estim = sum(chi_p1)/n\n",
    "    z.append(mu_estim)\n",
    "    i = i+1\n",
    "#преобразуем список выборочных средних в массив\n",
    "z1 = np.array(z)"
   ]
  },
  {
   "cell_type": "code",
   "execution_count": 5,
   "metadata": {
    "collapsed": true
   },
   "outputs": [],
   "source": [
    "#формируем pdf нормального распределения\n",
    "x3 = np.linspace(0,8,100)\n",
    "mu_est_norm3 = k\n",
    "sigma_est_norm3 = math.sqrt((2.*k)/n)\n",
    "norm_rv = sts.norm(loc=mu_est_norm3, scale=sigma_est_norm3)\n",
    "z3 = norm_rv.pdf(x3)"
   ]
  },
  {
   "cell_type": "code",
   "execution_count": 6,
   "metadata": {
    "collapsed": false
   },
   "outputs": [
    {
     "data": {
      "text/plain": [
       "<matplotlib.text.Text at 0x7da3c90>"
      ]
     },
     "execution_count": 6,
     "metadata": {},
     "output_type": "execute_result"
    },
    {
     "data": {
      "image/png": "[encoded data removed]",
      "text/plain": [
       "<matplotlib.figure.Figure at 0x7cebe30>"
      ]
     },
     "metadata": {},
     "output_type": "display_data"
    }
   ],
   "source": [
    "#строим графики\n",
    "plt.plot(x3, z3, label='PDF')\n",
    "plt.hist(z1, normed=True, label='selection averege')\n",
    "\n",
    "plt.legend(loc='upper right')\n",
    "plt.ylabel('$f(x)$')\n",
    "plt.xlabel('$x$')"
   ]
  },
  {
   "cell_type": "markdown",
   "metadata": {},
   "source": [
    "Для объема выборки n=5"
   ]
  },
  {
   "cell_type": "code",
   "execution_count": 7,
   "metadata": {
    "collapsed": true
   },
   "outputs": [],
   "source": [
    "#генерируем 1000 выборок размера n и считаем для каждой оценку математического ожидания\n",
    "n = 5\n",
    "z = []\n",
    "i = 0\n",
    "while i < 1000:\n",
    "    chi_p1 = chi.rvs(size=n)\n",
    "    mu_estim = sum(chi_p1)/n\n",
    "    z.append(mu_estim)\n",
    "    i = i+1\n",
    "#преобразуем список выборочных средних в массив\n",
    "z1 = np.array(z)"
   ]
  },
  {
   "cell_type": "code",
   "execution_count": 8,
   "metadata": {
    "collapsed": true
   },
   "outputs": [],
   "source": [
    "#формируем pdf нормального распределения\n",
    "x5 = np.linspace(0,8,100)\n",
    "mu_est_norm5 = k\n",
    "sigma_est_norm5 = math.sqrt((2.*k)/n)\n",
    "norm_rv = sts.norm(loc=mu_est_norm5, scale=sigma_est_norm5)\n",
    "z5 = norm_rv.pdf(x5)"
   ]
  },
  {
   "cell_type": "code",
   "execution_count": 9,
   "metadata": {
    "collapsed": false
   },
   "outputs": [
    {
     "data": {
      "text/plain": [
       "<matplotlib.text.Text at 0x8063c90>"
      ]
     },
     "execution_count": 9,
     "metadata": {},
     "output_type": "execute_result"
    },
    {
     "data": {
      "image/png": "[encoded data removed]",
      "text/plain": [
       "<matplotlib.figure.Figure at 0x8058830>"
      ]
     },
     "metadata": {},
     "output_type": "display_data"
    }
   ],
   "source": [
    "#строим графики\n",
    "plt.plot(x5, z5, label='PDF')\n",
    "plt.hist(z1, normed=True, label='selection averege')\n",
    "\n",
    "plt.legend(loc='upper right')\n",
    "plt.ylabel('$f(x)$')\n",
    "plt.xlabel('$x$')"
   ]
  },
  {
   "cell_type": "markdown",
   "metadata": {},
   "source": [
    "Для объема выборки n=10"
   ]
  },
  {
   "cell_type": "code",
   "execution_count": 10,
   "metadata": {
    "collapsed": true
   },
   "outputs": [],
   "source": [
    "#генерируем 1000 выборок размера n и считаем для каждой оценку математического ожидания\n",
    "n = 10\n",
    "z = []\n",
    "i = 0\n",
    "while i < 1000:\n",
    "    chi_p1 = chi.rvs(size=n)\n",
    "    mu_estim = sum(chi_p1)/n\n",
    "    z.append(mu_estim)\n",
    "    i = i+1\n",
    "#преобразуем список выборочных средних в массив\n",
    "z1 = np.array(z)"
   ]
  },
  {
   "cell_type": "code",
   "execution_count": 11,
   "metadata": {
    "collapsed": true
   },
   "outputs": [],
   "source": [
    "#формируем pdf нормального распределения\n",
    "x10 = np.linspace(0,8,100)\n",
    "mu_est_norm10 = k\n",
    "sigma_est_norm10 = math.sqrt((2.*k)/n)\n",
    "norm_rv = sts.norm(loc=mu_est_norm10, scale=sigma_est_norm10)\n",
    "z10 = norm_rv.pdf(x10)"
   ]
  },
  {
   "cell_type": "code",
   "execution_count": 12,
   "metadata": {
    "collapsed": false
   },
   "outputs": [
    {
     "data": {
      "text/plain": [
       "<matplotlib.text.Text at 0x820e970>"
      ]
     },
     "execution_count": 12,
     "metadata": {},
     "output_type": "execute_result"
    },
    {
     "data": {
      "image/png": "[encoded data removed]",
      "text/plain": [
       "<matplotlib.figure.Figure at 0x82257b0>"
      ]
     },
     "metadata": {},
     "output_type": "display_data"
    }
   ],
   "source": [
    "#строим графики\n",
    "plt.plot(x10, z10, label='PDF')\n",
    "plt.hist(z1, normed=True, label='selection averege')\n",
    "\n",
    "plt.legend(loc='upper right')\n",
    "plt.ylabel('$f(x)$')\n",
    "plt.xlabel('$x$')"
   ]
  },
  {
   "cell_type": "markdown",
   "metadata": {},
   "source": [
    "Для объема выборки n=50"
   ]
  },
  {
   "cell_type": "code",
   "execution_count": 13,
   "metadata": {
    "collapsed": true
   },
   "outputs": [],
   "source": [
    "#генерируем 1000 выборок размера n и считаем для каждой оценку математического ожидания\n",
    "n = 50\n",
    "z = []\n",
    "i = 0\n",
    "while i < 1000:\n",
    "    chi_p1 = chi.rvs(size=n)\n",
    "    mu_estim = sum(chi_p1)/n\n",
    "    z.append(mu_estim)\n",
    "    i = i+1\n",
    "#преобразуем список выборочных средних в массив\n",
    "z1 = np.array(z)"
   ]
  },
  {
   "cell_type": "code",
   "execution_count": 14,
   "metadata": {
    "collapsed": true
   },
   "outputs": [],
   "source": [
    "#формируем pdf нормального распределения\n",
    "x50 = np.linspace(0,8,100)\n",
    "mu_est_norm50 = k\n",
    "sigma_est_norm50 = math.sqrt((2.*k)/n)\n",
    "norm_rv = sts.norm(loc=mu_est_norm50, scale=sigma_est_norm50)\n",
    "z50 = norm_rv.pdf(x50)"
   ]
  },
  {
   "cell_type": "code",
   "execution_count": 15,
   "metadata": {
    "collapsed": false
   },
   "outputs": [
    {
     "data": {
      "text/plain": [
       "<matplotlib.text.Text at 0x8451430>"
      ]
     },
     "execution_count": 15,
     "metadata": {},
     "output_type": "execute_result"
    },
    {
     "data": {
      "image/png": "[encoded data removed]",
      "text/plain": [
       "<matplotlib.figure.Figure at 0x8443b70>"
      ]
     },
     "metadata": {},
     "output_type": "display_data"
    }
   ],
   "source": [
    "#строим графики\n",
    "plt.plot(x50, z50, label='PDF')\n",
    "plt.hist(z1, normed=True, label='selection averege')\n",
    "\n",
    "plt.legend(loc='upper right')\n",
    "plt.ylabel('$f(x)$')\n",
    "plt.xlabel('$x$')"
   ]
  },
  {
   "cell_type": "markdown",
   "metadata": {},
   "source": [
    "При небольших значениях n реальное распределение значений выборочных средних смещено относительно их аппроксимации нормальным распределением.\n",
    "\n",
    "С ростом значения n точность аппроксимации существенно возрастает. Что обусловлено, в том числе и уменьшением дисперсии и выборки, и аппроксимирующего распределения."
   ]
  }
 ],
 "metadata": {
  "kernelspec": {
   "display_name": "Python 3",
   "language": "python",
   "name": "python3"
  },
  "language_info": {
   "codemirror_mode": {
    "name": "ipython",
    "version": 3
   },
   "file_extension": ".py",
   "mimetype": "text/x-python",
   "name": "python",
   "nbconvert_exporter": "python",
   "pygments_lexer": "ipython3",
   "version": "3.5.1"
  }
 },
 "nbformat": 4,
 "nbformat_minor": 0
}
