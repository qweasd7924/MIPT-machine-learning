{
 "cells": [
  {
   "cell_type": "code",
   "execution_count": 9,
   "metadata": {
    "collapsed": false
   },
   "outputs": [
    {
     "data": {
      "text/plain": [
       "3"
      ]
     },
     "execution_count": 9,
     "metadata": {},
     "output_type": "execute_result"
    }
   ],
   "source": [
    "import re\n",
    "#import operator\n",
    "import numpy as np\n",
    "from scipy.spatial.distance import cosine\n",
    "\n",
    "file_in = open('sentences.txt', 'r')\n",
    "d = dict()\n",
    "word_id = 0\n",
    "text = list()\n",
    "lines_count = 0\n",
    "for line in file_in:\n",
    "    text.append(line.lower())\n",
    "    a = re.split('\\W+', line.lower())\n",
    "    a = [x for x in a if 'a' <= x if x <= 'z']\n",
    "    for cur_word in a:\n",
    "        if cur_word not in d.keys():\n",
    "            d[cur_word] = word_id\n",
    "            word_id += 1\n",
    "    lines_count += 1\n",
    "    \n",
    "#sorted_dict = sorted(d.items(),  key=operator.itemgetter(1))\n",
    "#print(sorted_dict)\n",
    "\n",
    "solve_mat = np.zeros((lines_count, word_id))\n",
    "for cur_word in d.keys():\n",
    "    row = 0\n",
    "    for cur_sentence in text:\n",
    "        cur_list = re.split('\\W+', cur_sentence)\n",
    "        for cur_sent_word in cur_list:\n",
    "            if cur_sent_word == cur_word:\n",
    "                solve_mat[row, d[cur_word]] += 1\n",
    "        row += 1\n",
    "\n",
    "min1 = 2000000000\n",
    "ind1 = -1\n",
    "min2 = 2000000001\n",
    "ind2 = -2\n",
    "for i in range(1, lines_count):\n",
    "    cur_dist = cosine(solve_mat[i, :], solve_mat[0, :])\n",
    "    if cur_dist < min2:\n",
    "        if cur_dist < min1:\n",
    "            min2 = min1\n",
    "            ind2 = ind1\n",
    "            min1 = cur_dist\n",
    "            ind1 = i\n",
    "        else:\n",
    "            min2 = cur_dist\n",
    "            ind2 = i\n",
    "\n",
    "file_out = open('submission-1.txt', 'w')\n",
    "file_out.write(str(str(ind1) + ' ' + str(ind2)))"
   ]
  },
  {
   "cell_type": "code",
   "execution_count": null,
   "metadata": {
    "collapsed": true
   },
   "outputs": [],
   "source": []
  }
 ],
 "metadata": {
  "kernelspec": {
   "display_name": "Python 3",
   "language": "python",
   "name": "python3"
  },
  "language_info": {
   "codemirror_mode": {
    "name": "ipython",
    "version": 3
   },
   "file_extension": ".py",
   "mimetype": "text/x-python",
   "name": "python",
   "nbconvert_exporter": "python",
   "pygments_lexer": "ipython3",
   "version": "3.5.1"
  }
 },
 "nbformat": 4,
 "nbformat_minor": 0
}
