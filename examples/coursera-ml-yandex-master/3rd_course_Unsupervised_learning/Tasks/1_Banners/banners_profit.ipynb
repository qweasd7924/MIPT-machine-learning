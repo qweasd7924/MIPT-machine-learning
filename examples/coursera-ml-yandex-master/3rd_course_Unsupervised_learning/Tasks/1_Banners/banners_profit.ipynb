{
 "cells": [
  {
   "cell_type": "markdown",
   "metadata": {},
   "source": [
    "# Banners task:"
   ]
  },
  {
   "cell_type": "markdown",
   "metadata": {},
   "source": [
    "### Task"
   ]
  },
  {
   "cell_type": "markdown",
   "metadata": {},
   "source": [
    "#### There is company that wants to place its 20 adverb banners effectively, so that as many people as possible can see this."
   ]
  },
  {
   "cell_type": "code",
   "execution_count": 2,
   "metadata": {
    "collapsed": false
   },
   "outputs": [
    {
     "name": "stdout",
     "output_type": "stream",
     "text": [
      "answer.txt  banners_profit.ipynb  data\ttask\r\n"
     ]
    }
   ],
   "source": [
    "!ls"
   ]
  },
  {
   "cell_type": "code",
   "execution_count": 3,
   "metadata": {
    "collapsed": false
   },
   "outputs": [
    {
     "name": "stdout",
     "output_type": "stream",
     "text": [
      "checkins.csv  checkins.dat  fsq\r\n"
     ]
    }
   ],
   "source": [
    "!ls data"
   ]
  },
  {
   "cell_type": "markdown",
   "metadata": {},
   "source": [
    "So we have .dat file, there is the data from www.foursquare.com - we can see where people are often to walk.\n",
    "We need to convert .dat into .csv so the work with data will be comfortable:"
   ]
  },
  {
   "cell_type": "code",
   "execution_count": 4,
   "metadata": {
    "collapsed": true
   },
   "outputs": [],
   "source": [
    "import csv"
   ]
  },
  {
   "cell_type": "code",
   "execution_count": 9,
   "metadata": {
    "collapsed": false
   },
   "outputs": [],
   "source": [
    "with open('data/checkins.dat', 'r') as dat_file:\n",
    "    newLines = []\n",
    "    for line in dat_file:\n",
    "        newLine = [x.strip() for x in line.split('|')]\n",
    "        if len(newLine) == 6 and newLine[3] and newLine[4]:\n",
    "            newLines.append(newLine)\n",
    "            \n",
    "with open('data/checkins.csv', 'w') as csv_file:\n",
    "    file_writer = csv.writer(csv_file)\n",
    "    file_writer.writerows(newLines)"
   ]
  },
  {
   "cell_type": "markdown",
   "metadata": {},
   "source": [
    "Now let's see what useful information we can extract from the data:"
   ]
  },
  {
   "cell_type": "code",
   "execution_count": 5,
   "metadata": {
    "collapsed": true
   },
   "outputs": [],
   "source": [
    "import pandas as pd"
   ]
  },
  {
   "cell_type": "code",
   "execution_count": 6,
   "metadata": {
    "collapsed": true
   },
   "outputs": [],
   "source": [
    "df = pd.read_csv('data/checkins.csv')"
   ]
  },
  {
   "cell_type": "code",
   "execution_count": 7,
   "metadata": {
    "collapsed": false
   },
   "outputs": [
    {
     "data": {
      "text/html": [
       "<div>\n",
       "<table border=\"1\" class=\"dataframe\">\n",
       "  <thead>\n",
       "    <tr style=\"text-align: right;\">\n",
       "      <th></th>\n",
       "      <th>id</th>\n",
       "      <th>user_id</th>\n",
       "      <th>venue_id</th>\n",
       "      <th>latitude</th>\n",
       "      <th>longitude</th>\n",
       "    </tr>\n",
       "  </thead>\n",
       "  <tbody>\n",
       "    <tr>\n",
       "      <th>count</th>\n",
       "      <td>3.966340e+05</td>\n",
       "      <td>3.966340e+05</td>\n",
       "      <td>3.966340e+05</td>\n",
       "      <td>396634.000000</td>\n",
       "      <td>396634.000000</td>\n",
       "    </tr>\n",
       "    <tr>\n",
       "      <th>mean</th>\n",
       "      <td>5.104711e+05</td>\n",
       "      <td>5.641349e+05</td>\n",
       "      <td>1.327559e+05</td>\n",
       "      <td>37.097070</td>\n",
       "      <td>-86.354065</td>\n",
       "    </tr>\n",
       "    <tr>\n",
       "      <th>std</th>\n",
       "      <td>3.054927e+05</td>\n",
       "      <td>4.865694e+05</td>\n",
       "      <td>2.287003e+05</td>\n",
       "      <td>8.778760</td>\n",
       "      <td>37.983677</td>\n",
       "    </tr>\n",
       "    <tr>\n",
       "      <th>min</th>\n",
       "      <td>1.600000e+01</td>\n",
       "      <td>1.000000e+00</td>\n",
       "      <td>1.000000e+00</td>\n",
       "      <td>-75.250973</td>\n",
       "      <td>-159.670833</td>\n",
       "    </tr>\n",
       "    <tr>\n",
       "      <th>25%</th>\n",
       "      <td>2.422792e+05</td>\n",
       "      <td>1.692900e+05</td>\n",
       "      <td>7.620000e+03</td>\n",
       "      <td>33.800745</td>\n",
       "      <td>-111.926052</td>\n",
       "    </tr>\n",
       "    <tr>\n",
       "      <th>50%</th>\n",
       "      <td>5.019875e+05</td>\n",
       "      <td>4.298200e+05</td>\n",
       "      <td>2.830400e+04</td>\n",
       "      <td>39.099275</td>\n",
       "      <td>-85.758456</td>\n",
       "    </tr>\n",
       "    <tr>\n",
       "      <th>75%</th>\n",
       "      <td>7.758175e+05</td>\n",
       "      <td>8.496470e+05</td>\n",
       "      <td>1.485520e+05</td>\n",
       "      <td>40.802071</td>\n",
       "      <td>-74.056530</td>\n",
       "    </tr>\n",
       "    <tr>\n",
       "      <th>max</th>\n",
       "      <td>1.021981e+06</td>\n",
       "      <td>2.153361e+06</td>\n",
       "      <td>1.143011e+06</td>\n",
       "      <td>78.218590</td>\n",
       "      <td>178.424240</td>\n",
       "    </tr>\n",
       "  </tbody>\n",
       "</table>\n",
       "</div>"
      ],
      "text/plain": [
       "                 id       user_id      venue_id       latitude      longitude\n",
       "count  3.966340e+05  3.966340e+05  3.966340e+05  396634.000000  396634.000000\n",
       "mean   5.104711e+05  5.641349e+05  1.327559e+05      37.097070     -86.354065\n",
       "std    3.054927e+05  4.865694e+05  2.287003e+05       8.778760      37.983677\n",
       "min    1.600000e+01  1.000000e+00  1.000000e+00     -75.250973    -159.670833\n",
       "25%    2.422792e+05  1.692900e+05  7.620000e+03      33.800745    -111.926052\n",
       "50%    5.019875e+05  4.298200e+05  2.830400e+04      39.099275     -85.758456\n",
       "75%    7.758175e+05  8.496470e+05  1.485520e+05      40.802071     -74.056530\n",
       "max    1.021981e+06  2.153361e+06  1.143011e+06      78.218590     178.424240"
      ]
     },
     "execution_count": 7,
     "metadata": {},
     "output_type": "execute_result"
    }
   ],
   "source": [
    "df.describe()"
   ]
  },
  {
   "cell_type": "code",
   "execution_count": 8,
   "metadata": {
    "collapsed": false
   },
   "outputs": [
    {
     "data": {
      "text/html": [
       "<div>\n",
       "<table border=\"1\" class=\"dataframe\">\n",
       "  <thead>\n",
       "    <tr style=\"text-align: right;\">\n",
       "      <th></th>\n",
       "      <th>id</th>\n",
       "      <th>user_id</th>\n",
       "      <th>venue_id</th>\n",
       "      <th>latitude</th>\n",
       "      <th>longitude</th>\n",
       "      <th>created_at</th>\n",
       "    </tr>\n",
       "  </thead>\n",
       "  <tbody>\n",
       "    <tr>\n",
       "      <th>0</th>\n",
       "      <td>984222</td>\n",
       "      <td>15824</td>\n",
       "      <td>5222</td>\n",
       "      <td>38.895112</td>\n",
       "      <td>-77.036366</td>\n",
       "      <td>2012-04-21 17:43:47</td>\n",
       "    </tr>\n",
       "    <tr>\n",
       "      <th>1</th>\n",
       "      <td>984234</td>\n",
       "      <td>44652</td>\n",
       "      <td>5222</td>\n",
       "      <td>33.800745</td>\n",
       "      <td>-84.410520</td>\n",
       "      <td>2012-04-21 17:43:43</td>\n",
       "    </tr>\n",
       "    <tr>\n",
       "      <th>2</th>\n",
       "      <td>984291</td>\n",
       "      <td>105054</td>\n",
       "      <td>5222</td>\n",
       "      <td>45.523452</td>\n",
       "      <td>-122.676207</td>\n",
       "      <td>2012-04-21 17:39:22</td>\n",
       "    </tr>\n",
       "    <tr>\n",
       "      <th>3</th>\n",
       "      <td>984318</td>\n",
       "      <td>2146539</td>\n",
       "      <td>5222</td>\n",
       "      <td>40.764462</td>\n",
       "      <td>-111.904565</td>\n",
       "      <td>2012-04-21 17:35:46</td>\n",
       "    </tr>\n",
       "    <tr>\n",
       "      <th>4</th>\n",
       "      <td>984232</td>\n",
       "      <td>93870</td>\n",
       "      <td>380645</td>\n",
       "      <td>33.448377</td>\n",
       "      <td>-112.074037</td>\n",
       "      <td>2012-04-21 17:38:18</td>\n",
       "    </tr>\n",
       "  </tbody>\n",
       "</table>\n",
       "</div>"
      ],
      "text/plain": [
       "       id  user_id  venue_id   latitude   longitude           created_at\n",
       "0  984222    15824      5222  38.895112  -77.036366  2012-04-21 17:43:47\n",
       "1  984234    44652      5222  33.800745  -84.410520  2012-04-21 17:43:43\n",
       "2  984291   105054      5222  45.523452 -122.676207  2012-04-21 17:39:22\n",
       "3  984318  2146539      5222  40.764462 -111.904565  2012-04-21 17:35:46\n",
       "4  984232    93870    380645  33.448377 -112.074037  2012-04-21 17:38:18"
      ]
     },
     "execution_count": 8,
     "metadata": {},
     "output_type": "execute_result"
    }
   ],
   "source": [
    "df.head()"
   ]
  },
  {
   "cell_type": "code",
   "execution_count": 9,
   "metadata": {
    "collapsed": true
   },
   "outputs": [],
   "source": [
    "import numpy as np\n",
    "from sklearn.cluster import MeanShift"
   ]
  },
  {
   "cell_type": "markdown",
   "metadata": {},
   "source": [
    "We will use MeanShift clustering algorithm to find the centers of people crowds:"
   ]
  },
  {
   "cell_type": "code",
   "execution_count": 10,
   "metadata": {
    "collapsed": true
   },
   "outputs": [],
   "source": [
    "ms = MeanShift(bandwidth=0.1)"
   ]
  },
  {
   "cell_type": "code",
   "execution_count": 11,
   "metadata": {
    "collapsed": false
   },
   "outputs": [
    {
     "name": "stdout",
     "output_type": "stream",
     "text": [
      "(396634, 6)\n",
      "(396634, 2)\n",
      "[[38.895111799999995 -77.0363658]\n",
      " [33.800745 -84.41051999999999]\n",
      " [45.5234515 -122.6762071]\n",
      " [40.764462 -111.90456499999999]\n",
      " [33.4483771 -112.07403729999999]]\n"
     ]
    }
   ],
   "source": [
    "X = df.values\n",
    "print(X.shape)\n",
    "\n",
    "# we need only the coordinates\n",
    "coordinates = X[:, 3:5]\n",
    "print(coordinates.shape)\n",
    "print(coordinates[:5])"
   ]
  },
  {
   "cell_type": "code",
   "execution_count": 12,
   "metadata": {
    "collapsed": false
   },
   "outputs": [
    {
     "data": {
      "text/plain": [
       "MeanShift(bandwidth=0.1, bin_seeding=False, cluster_all=True, min_bin_freq=1,\n",
       "     n_jobs=1, seeds=None)"
      ]
     },
     "execution_count": 12,
     "metadata": {},
     "output_type": "execute_result"
    }
   ],
   "source": [
    "ms.fit(coordinates[:100001])"
   ]
  },
  {
   "cell_type": "code",
   "execution_count": 13,
   "metadata": {
    "collapsed": false
   },
   "outputs": [
    {
     "name": "stdout",
     "output_type": "stream",
     "text": [
      "(3230, 2)\n",
      "[ 40.7177164  -73.99183542]\n"
     ]
    }
   ],
   "source": [
    "centers = ms.cluster_centers_\n",
    "print(centers.shape)\n",
    "print(centers[0])"
   ]
  },
  {
   "cell_type": "markdown",
   "metadata": {},
   "source": [
    "We want to know how many people are there in each cluster, because we need the most \"crowded\" places:"
   ]
  },
  {
   "cell_type": "code",
   "execution_count": 14,
   "metadata": {
    "collapsed": false
   },
   "outputs": [
    {
     "name": "stdout",
     "output_type": "stream",
     "text": [
      "(100001,)\n",
      "[12506  4692  3994  3363  3527]\n"
     ]
    }
   ],
   "source": [
    "labels = ms.labels_\n",
    "print(labels.shape)\n",
    "unique_labels, counts = np.unique(labels, return_counts=True)\n",
    "print(counts[:5])"
   ]
  },
  {
   "cell_type": "code",
   "execution_count": 15,
   "metadata": {
    "collapsed": false
   },
   "outputs": [
    {
     "name": "stdout",
     "output_type": "stream",
     "text": [
      "[[    0 12506]\n",
      " [    1  4692]\n",
      " [    2  3994]\n",
      " ..., \n",
      " [ 3227     1]\n",
      " [ 3228     1]\n",
      " [ 3229     1]]\n"
     ]
    }
   ],
   "source": [
    "centers_counts = np.asarray((unique_labels, counts)).T\n",
    "print(centers_counts)"
   ]
  },
  {
   "cell_type": "markdown",
   "metadata": {},
   "source": [
    "We don`t need clusters where number of people is less then 15:"
   ]
  },
  {
   "cell_type": "code",
   "execution_count": 16,
   "metadata": {
    "collapsed": false
   },
   "outputs": [
    {
     "name": "stdout",
     "output_type": "stream",
     "text": [
      "(591, 2)\n",
      "[[    0 12506]\n",
      " [    1  4692]\n",
      " [    2  3994]\n",
      " [    3  3363]\n",
      " [    4  3527]\n",
      " [    5  2409]\n",
      " [    6  2297]\n",
      " [    7  1601]\n",
      " [    8  1526]\n",
      " [    9  1378]]\n"
     ]
    }
   ],
   "source": [
    "interesting_centers = np.array([x for x in centers_counts if x[1] > 15])\n",
    "print(interesting_centers.shape)\n",
    "print(interesting_centers[:10])"
   ]
  },
  {
   "cell_type": "markdown",
   "metadata": {},
   "source": [
    "#### We know coordinates of the offices of this company:"
   ]
  },
  {
   "cell_type": "code",
   "execution_count": 17,
   "metadata": {
    "collapsed": false
   },
   "outputs": [
    {
     "name": "stdout",
     "output_type": "stream",
     "text": [
      "(6, 2)\n"
     ]
    }
   ],
   "source": [
    "offices = np.matrix([[33.751277, -118.188740], \n",
    "                     [25.867736, -80.324116], \n",
    "                     [51.503016, -0.075479], \n",
    "                     [52.378894, 4.885084], \n",
    "                     [39.366487, 117.036146], \n",
    "                     [-33.868457, 151.205134]])\n",
    "print(offices.shape)"
   ]
  },
  {
   "cell_type": "code",
   "execution_count": 18,
   "metadata": {
    "collapsed": false
   },
   "outputs": [],
   "source": [
    "profit_centers = []\n",
    "for i, center in enumerate(centers):\n",
    "    if i in interesting_centers[:, 0]:\n",
    "        profit_centers.append(center)\n",
    "profit_centers = np.array(profit_centers)"
   ]
  },
  {
   "cell_type": "code",
   "execution_count": 19,
   "metadata": {
    "collapsed": false
   },
   "outputs": [
    {
     "name": "stdout",
     "output_type": "stream",
     "text": [
      "(591, 2)\n",
      "[[  40.7177164   -73.99183542]\n",
      " [  33.44943805 -112.00213969]\n",
      " [  33.44638027 -111.90188756]\n",
      " [  41.87824378  -87.62984336]\n",
      " [  37.68868157 -122.40933037]]\n"
     ]
    }
   ],
   "source": [
    "print(profit_centers.shape)\n",
    "print(profit_centers[:5])"
   ]
  },
  {
   "cell_type": "markdown",
   "metadata": {},
   "source": [
    "Now we can find 20 closest (to offices) crowd centers and locate there our banners:"
   ]
  },
  {
   "cell_type": "code",
   "execution_count": 20,
   "metadata": {
    "collapsed": false
   },
   "outputs": [],
   "source": [
    "from scipy import spatial\n",
    "all_distances = []\n",
    "for num, center in enumerate(profit_centers):\n",
    "    for office_point in offices:\n",
    "        all_distances.append((spatial.distance.euclidean(center, office_point), num))"
   ]
  },
  {
   "cell_type": "code",
   "execution_count": 22,
   "metadata": {
    "collapsed": true
   },
   "outputs": [],
   "source": [
    "ordered = sorted(all_distances)"
   ]
  },
  {
   "cell_type": "code",
   "execution_count": 23,
   "metadata": {
    "collapsed": false
   },
   "outputs": [
    {
     "name": "stdout",
     "output_type": "stream",
     "text": [
      "[(0.007834758163107854, 408), (0.009353316185992226, 373), (0.02267406615838222, 417), (0.05005829482278787, 58), (0.07084773242717578, 51), (0.13410903336184657, 29), (0.16740596425035667, 167), (0.1888759606018508, 92), (0.1957794564776363, 87), (0.21181053682436796, 42), (0.22223329073179776, 291), (0.27130075950667704, 316), (0.29497888680045686, 119), (0.3022701186924605, 55), (0.3047305030784069, 27), (0.3148837903362732, 11), (0.33881047025113176, 32), (0.3408456533220572, 158), (0.37868750125029754, 17), (0.3867062248427277, 47)]\n"
     ]
    }
   ],
   "source": [
    "print(ordered[:20])"
   ]
  },
  {
   "cell_type": "code",
   "execution_count": 24,
   "metadata": {
    "collapsed": false
   },
   "outputs": [],
   "source": [
    "with open('answer.txt', 'w') as fout:\n",
    "    fout.write(str(profit_centers[408][0]) + ' ' + str(profit_centers[408][1]))"
   ]
  },
  {
   "cell_type": "markdown",
   "metadata": {},
   "source": [
    "<b>Answer</b>: Coordinates of the closest and \"enough crowded\" place to locate the banner:"
   ]
  },
  {
   "cell_type": "code",
   "execution_count": 28,
   "metadata": {
    "collapsed": false
   },
   "outputs": [
    {
     "name": "stdout",
     "output_type": "stream",
     "text": [
      "[ -33.86063043  151.20477593]\n"
     ]
    }
   ],
   "source": [
    "print(profit_centers[408])"
   ]
  }
 ],
 "metadata": {
  "kernelspec": {
   "display_name": "Python 3",
   "language": "python",
   "name": "python3"
  },
  "language_info": {
   "codemirror_mode": {
    "name": "ipython",
    "version": 3
   },
   "file_extension": ".py",
   "mimetype": "text/x-python",
   "name": "python",
   "nbconvert_exporter": "python",
   "pygments_lexer": "ipython3",
   "version": "3.5.2"
  }
 },
 "nbformat": 4,
 "nbformat_minor": 0
}
