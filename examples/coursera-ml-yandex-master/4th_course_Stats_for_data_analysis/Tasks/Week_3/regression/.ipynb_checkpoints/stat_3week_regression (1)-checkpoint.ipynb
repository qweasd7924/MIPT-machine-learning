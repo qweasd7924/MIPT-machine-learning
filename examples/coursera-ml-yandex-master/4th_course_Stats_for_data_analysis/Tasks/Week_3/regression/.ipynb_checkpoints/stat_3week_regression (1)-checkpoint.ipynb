{
 "cells": [
  {
   "cell_type": "code",
   "execution_count": 9,
   "metadata": {},
   "outputs": [],
   "source": [
    "import statsmodels\n",
    "import scipy as sc\n",
    "import numpy as np\n",
    "import pandas as pd\n",
    "import statsmodels.formula.api as smf\n",
    "import statsmodels.stats.api as sms\n",
    "from statsmodels.graphics.regressionplots import plot_leverage_resid2\n",
    "import matplotlib.pyplot as plt"
   ]
  },
  {
   "cell_type": "code",
   "execution_count": 10,
   "metadata": {},
   "outputs": [
    {
     "data": {
      "text/html": [
       "<div>\n",
       "<style>\n",
       "    .dataframe thead tr:only-child th {\n",
       "        text-align: right;\n",
       "    }\n",
       "\n",
       "    .dataframe thead th {\n",
       "        text-align: left;\n",
       "    }\n",
       "\n",
       "    .dataframe tbody tr th {\n",
       "        vertical-align: top;\n",
       "    }\n",
       "</style>\n",
       "<table border=\"1\" class=\"dataframe\">\n",
       "  <thead>\n",
       "    <tr style=\"text-align: right;\">\n",
       "      <th></th>\n",
       "      <th>ceb</th>\n",
       "      <th>age</th>\n",
       "      <th>educ</th>\n",
       "      <th>religion</th>\n",
       "      <th>idlnchld</th>\n",
       "      <th>knowmeth</th>\n",
       "      <th>usemeth</th>\n",
       "      <th>evermarr</th>\n",
       "      <th>agefm</th>\n",
       "      <th>heduc</th>\n",
       "      <th>urban</th>\n",
       "      <th>electric</th>\n",
       "      <th>radio</th>\n",
       "      <th>tv</th>\n",
       "      <th>bicycle</th>\n",
       "    </tr>\n",
       "  </thead>\n",
       "  <tbody>\n",
       "    <tr>\n",
       "      <th>0</th>\n",
       "      <td>0</td>\n",
       "      <td>18</td>\n",
       "      <td>10</td>\n",
       "      <td>catholic</td>\n",
       "      <td>4.0</td>\n",
       "      <td>1.0</td>\n",
       "      <td>1.0</td>\n",
       "      <td>0</td>\n",
       "      <td>NaN</td>\n",
       "      <td>NaN</td>\n",
       "      <td>1</td>\n",
       "      <td>1.0</td>\n",
       "      <td>1.0</td>\n",
       "      <td>1.0</td>\n",
       "      <td>1.0</td>\n",
       "    </tr>\n",
       "    <tr>\n",
       "      <th>1</th>\n",
       "      <td>2</td>\n",
       "      <td>43</td>\n",
       "      <td>11</td>\n",
       "      <td>protestant</td>\n",
       "      <td>2.0</td>\n",
       "      <td>1.0</td>\n",
       "      <td>1.0</td>\n",
       "      <td>1</td>\n",
       "      <td>20.0</td>\n",
       "      <td>14.0</td>\n",
       "      <td>1</td>\n",
       "      <td>1.0</td>\n",
       "      <td>1.0</td>\n",
       "      <td>1.0</td>\n",
       "      <td>1.0</td>\n",
       "    </tr>\n",
       "    <tr>\n",
       "      <th>2</th>\n",
       "      <td>0</td>\n",
       "      <td>49</td>\n",
       "      <td>4</td>\n",
       "      <td>spirit</td>\n",
       "      <td>4.0</td>\n",
       "      <td>1.0</td>\n",
       "      <td>0.0</td>\n",
       "      <td>1</td>\n",
       "      <td>22.0</td>\n",
       "      <td>1.0</td>\n",
       "      <td>1</td>\n",
       "      <td>1.0</td>\n",
       "      <td>1.0</td>\n",
       "      <td>0.0</td>\n",
       "      <td>0.0</td>\n",
       "    </tr>\n",
       "    <tr>\n",
       "      <th>3</th>\n",
       "      <td>0</td>\n",
       "      <td>24</td>\n",
       "      <td>12</td>\n",
       "      <td>other</td>\n",
       "      <td>2.0</td>\n",
       "      <td>1.0</td>\n",
       "      <td>0.0</td>\n",
       "      <td>0</td>\n",
       "      <td>NaN</td>\n",
       "      <td>NaN</td>\n",
       "      <td>1</td>\n",
       "      <td>1.0</td>\n",
       "      <td>1.0</td>\n",
       "      <td>1.0</td>\n",
       "      <td>1.0</td>\n",
       "    </tr>\n",
       "    <tr>\n",
       "      <th>4</th>\n",
       "      <td>3</td>\n",
       "      <td>32</td>\n",
       "      <td>13</td>\n",
       "      <td>other</td>\n",
       "      <td>3.0</td>\n",
       "      <td>1.0</td>\n",
       "      <td>1.0</td>\n",
       "      <td>1</td>\n",
       "      <td>24.0</td>\n",
       "      <td>12.0</td>\n",
       "      <td>1</td>\n",
       "      <td>1.0</td>\n",
       "      <td>1.0</td>\n",
       "      <td>1.0</td>\n",
       "      <td>1.0</td>\n",
       "    </tr>\n",
       "  </tbody>\n",
       "</table>\n",
       "</div>"
      ],
      "text/plain": [
       "   ceb  age  educ    religion  idlnchld  knowmeth  usemeth  evermarr  agefm  \\\n",
       "0    0   18    10    catholic       4.0       1.0      1.0         0    NaN   \n",
       "1    2   43    11  protestant       2.0       1.0      1.0         1   20.0   \n",
       "2    0   49     4      spirit       4.0       1.0      0.0         1   22.0   \n",
       "3    0   24    12       other       2.0       1.0      0.0         0    NaN   \n",
       "4    3   32    13       other       3.0       1.0      1.0         1   24.0   \n",
       "\n",
       "   heduc  urban  electric  radio   tv  bicycle  \n",
       "0    NaN      1       1.0    1.0  1.0      1.0  \n",
       "1   14.0      1       1.0    1.0  1.0      1.0  \n",
       "2    1.0      1       1.0    1.0  0.0      0.0  \n",
       "3    NaN      1       1.0    1.0  1.0      1.0  \n",
       "4   12.0      1       1.0    1.0  1.0      1.0  "
      ]
     },
     "execution_count": 10,
     "metadata": {},
     "output_type": "execute_result"
    }
   ],
   "source": [
    "raw = pd.read_csv(\"botswana.tsv\", sep=\"\\t\", index_col=False) \n",
    "raw.head()"
   ]
  },
  {
   "cell_type": "code",
   "execution_count": 11,
   "metadata": {},
   "outputs": [
    {
     "data": {
      "text/plain": [
       "array(['catholic', 'protestant', 'spirit', 'other'], dtype=object)"
      ]
     },
     "execution_count": 11,
     "metadata": {},
     "output_type": "execute_result"
    }
   ],
   "source": [
    "raw.religion.unique()"
   ]
  },
  {
   "cell_type": "code",
   "execution_count": 12,
   "metadata": {
    "collapsed": true
   },
   "outputs": [],
   "source": [
    "wo_na = raw.dropna()"
   ]
  },
  {
   "cell_type": "code",
   "execution_count": 13,
   "metadata": {},
   "outputs": [
    {
     "data": {
      "text/plain": [
       "(1834, 15)"
      ]
     },
     "execution_count": 13,
     "metadata": {},
     "output_type": "execute_result"
    }
   ],
   "source": [
    "wo_na.shape"
   ]
  },
  {
   "cell_type": "code",
   "execution_count": 14,
   "metadata": {},
   "outputs": [],
   "source": [
    "raw['nevermarr'] = raw['agefm'].apply(lambda x : 1 if str(x) == 'nan' else 0)\n",
    "raw['agefm'] = raw['agefm'].apply(lambda x : 0 if str(x) == 'nan' else x)\n",
    "raw.loc[raw.nevermarr == 1, 'heduc'] = -1\n",
    "raw.drop('evermarr', axis=1, inplace=True)"
   ]
  },
  {
   "cell_type": "code",
   "execution_count": 15,
   "metadata": {},
   "outputs": [
    {
     "data": {
      "text/html": [
       "<div>\n",
       "<style>\n",
       "    .dataframe thead tr:only-child th {\n",
       "        text-align: right;\n",
       "    }\n",
       "\n",
       "    .dataframe thead th {\n",
       "        text-align: left;\n",
       "    }\n",
       "\n",
       "    .dataframe tbody tr th {\n",
       "        vertical-align: top;\n",
       "    }\n",
       "</style>\n",
       "<table border=\"1\" class=\"dataframe\">\n",
       "  <thead>\n",
       "    <tr style=\"text-align: right;\">\n",
       "      <th></th>\n",
       "      <th>ceb</th>\n",
       "      <th>age</th>\n",
       "      <th>educ</th>\n",
       "      <th>religion</th>\n",
       "      <th>idlnchld</th>\n",
       "      <th>knowmeth</th>\n",
       "      <th>usemeth</th>\n",
       "      <th>agefm</th>\n",
       "      <th>heduc</th>\n",
       "      <th>urban</th>\n",
       "      <th>electric</th>\n",
       "      <th>radio</th>\n",
       "      <th>tv</th>\n",
       "      <th>bicycle</th>\n",
       "      <th>nevermarr</th>\n",
       "    </tr>\n",
       "  </thead>\n",
       "  <tbody>\n",
       "    <tr>\n",
       "      <th>0</th>\n",
       "      <td>0</td>\n",
       "      <td>18</td>\n",
       "      <td>10</td>\n",
       "      <td>catholic</td>\n",
       "      <td>4.0</td>\n",
       "      <td>1.0</td>\n",
       "      <td>1.0</td>\n",
       "      <td>0.0</td>\n",
       "      <td>-1.0</td>\n",
       "      <td>1</td>\n",
       "      <td>1.0</td>\n",
       "      <td>1.0</td>\n",
       "      <td>1.0</td>\n",
       "      <td>1.0</td>\n",
       "      <td>1</td>\n",
       "    </tr>\n",
       "    <tr>\n",
       "      <th>1</th>\n",
       "      <td>2</td>\n",
       "      <td>43</td>\n",
       "      <td>11</td>\n",
       "      <td>protestant</td>\n",
       "      <td>2.0</td>\n",
       "      <td>1.0</td>\n",
       "      <td>1.0</td>\n",
       "      <td>20.0</td>\n",
       "      <td>14.0</td>\n",
       "      <td>1</td>\n",
       "      <td>1.0</td>\n",
       "      <td>1.0</td>\n",
       "      <td>1.0</td>\n",
       "      <td>1.0</td>\n",
       "      <td>0</td>\n",
       "    </tr>\n",
       "    <tr>\n",
       "      <th>2</th>\n",
       "      <td>0</td>\n",
       "      <td>49</td>\n",
       "      <td>4</td>\n",
       "      <td>spirit</td>\n",
       "      <td>4.0</td>\n",
       "      <td>1.0</td>\n",
       "      <td>0.0</td>\n",
       "      <td>22.0</td>\n",
       "      <td>1.0</td>\n",
       "      <td>1</td>\n",
       "      <td>1.0</td>\n",
       "      <td>1.0</td>\n",
       "      <td>0.0</td>\n",
       "      <td>0.0</td>\n",
       "      <td>0</td>\n",
       "    </tr>\n",
       "    <tr>\n",
       "      <th>3</th>\n",
       "      <td>0</td>\n",
       "      <td>24</td>\n",
       "      <td>12</td>\n",
       "      <td>other</td>\n",
       "      <td>2.0</td>\n",
       "      <td>1.0</td>\n",
       "      <td>0.0</td>\n",
       "      <td>0.0</td>\n",
       "      <td>-1.0</td>\n",
       "      <td>1</td>\n",
       "      <td>1.0</td>\n",
       "      <td>1.0</td>\n",
       "      <td>1.0</td>\n",
       "      <td>1.0</td>\n",
       "      <td>1</td>\n",
       "    </tr>\n",
       "    <tr>\n",
       "      <th>4</th>\n",
       "      <td>3</td>\n",
       "      <td>32</td>\n",
       "      <td>13</td>\n",
       "      <td>other</td>\n",
       "      <td>3.0</td>\n",
       "      <td>1.0</td>\n",
       "      <td>1.0</td>\n",
       "      <td>24.0</td>\n",
       "      <td>12.0</td>\n",
       "      <td>1</td>\n",
       "      <td>1.0</td>\n",
       "      <td>1.0</td>\n",
       "      <td>1.0</td>\n",
       "      <td>1.0</td>\n",
       "      <td>0</td>\n",
       "    </tr>\n",
       "  </tbody>\n",
       "</table>\n",
       "</div>"
      ],
      "text/plain": [
       "   ceb  age  educ    religion  idlnchld  knowmeth  usemeth  agefm  heduc  \\\n",
       "0    0   18    10    catholic       4.0       1.0      1.0    0.0   -1.0   \n",
       "1    2   43    11  protestant       2.0       1.0      1.0   20.0   14.0   \n",
       "2    0   49     4      spirit       4.0       1.0      0.0   22.0    1.0   \n",
       "3    0   24    12       other       2.0       1.0      0.0    0.0   -1.0   \n",
       "4    3   32    13       other       3.0       1.0      1.0   24.0   12.0   \n",
       "\n",
       "   urban  electric  radio   tv  bicycle  nevermarr  \n",
       "0      1       1.0    1.0  1.0      1.0          1  \n",
       "1      1       1.0    1.0  1.0      1.0          0  \n",
       "2      1       1.0    1.0  0.0      0.0          0  \n",
       "3      1       1.0    1.0  1.0      1.0          1  \n",
       "4      1       1.0    1.0  1.0      1.0          0  "
      ]
     },
     "execution_count": 15,
     "metadata": {},
     "output_type": "execute_result"
    }
   ],
   "source": [
    "raw.head()"
   ]
  },
  {
   "cell_type": "code",
   "execution_count": 16,
   "metadata": {},
   "outputs": [
    {
     "data": {
      "text/plain": [
       "123"
      ]
     },
     "execution_count": 16,
     "metadata": {},
     "output_type": "execute_result"
    }
   ],
   "source": [
    "raw.heduc.isnull().sum()"
   ]
  },
  {
   "cell_type": "code",
   "execution_count": 17,
   "metadata": {},
   "outputs": [],
   "source": [
    "raw['idlnchld_noans'] = raw['idlnchld'].apply(lambda x : 1 if str(x) == 'nan' else 0)\n",
    "raw['usemeth_noans'] = raw['usemeth'].apply(lambda x : 1 if str(x) == 'nan' else 0)\n",
    "raw['heduc_noans'] = raw['heduc'].apply(lambda x : 1 if str(x) == 'nan' else 0)\n",
    "raw['idlnchld'] = raw['idlnchld'].apply(lambda x : -1 if str(x) == 'nan' else x)\n",
    "raw['usemeth'] = raw['usemeth'].apply(lambda x : -1 if str(x) == 'nan' else x)\n",
    "raw['heduc'] = raw['heduc'].apply(lambda x : -2 if str(x) == 'nan' else x)"
   ]
  },
  {
   "cell_type": "code",
   "execution_count": 18,
   "metadata": {},
   "outputs": [
    {
     "data": {
      "text/html": [
       "<div>\n",
       "<style>\n",
       "    .dataframe thead tr:only-child th {\n",
       "        text-align: right;\n",
       "    }\n",
       "\n",
       "    .dataframe thead th {\n",
       "        text-align: left;\n",
       "    }\n",
       "\n",
       "    .dataframe tbody tr th {\n",
       "        vertical-align: top;\n",
       "    }\n",
       "</style>\n",
       "<table border=\"1\" class=\"dataframe\">\n",
       "  <thead>\n",
       "    <tr style=\"text-align: right;\">\n",
       "      <th></th>\n",
       "      <th>ceb</th>\n",
       "      <th>age</th>\n",
       "      <th>educ</th>\n",
       "      <th>religion</th>\n",
       "      <th>idlnchld</th>\n",
       "      <th>knowmeth</th>\n",
       "      <th>usemeth</th>\n",
       "      <th>agefm</th>\n",
       "      <th>heduc</th>\n",
       "      <th>urban</th>\n",
       "      <th>electric</th>\n",
       "      <th>radio</th>\n",
       "      <th>tv</th>\n",
       "      <th>bicycle</th>\n",
       "      <th>nevermarr</th>\n",
       "      <th>idlnchld_noans</th>\n",
       "      <th>usemeth_noans</th>\n",
       "      <th>heduc_noans</th>\n",
       "    </tr>\n",
       "  </thead>\n",
       "  <tbody>\n",
       "    <tr>\n",
       "      <th>0</th>\n",
       "      <td>0</td>\n",
       "      <td>18</td>\n",
       "      <td>10</td>\n",
       "      <td>catholic</td>\n",
       "      <td>4.0</td>\n",
       "      <td>1.0</td>\n",
       "      <td>1.0</td>\n",
       "      <td>0.0</td>\n",
       "      <td>-1.0</td>\n",
       "      <td>1</td>\n",
       "      <td>1.0</td>\n",
       "      <td>1.0</td>\n",
       "      <td>1.0</td>\n",
       "      <td>1.0</td>\n",
       "      <td>1</td>\n",
       "      <td>0</td>\n",
       "      <td>0</td>\n",
       "      <td>0</td>\n",
       "    </tr>\n",
       "    <tr>\n",
       "      <th>1</th>\n",
       "      <td>2</td>\n",
       "      <td>43</td>\n",
       "      <td>11</td>\n",
       "      <td>protestant</td>\n",
       "      <td>2.0</td>\n",
       "      <td>1.0</td>\n",
       "      <td>1.0</td>\n",
       "      <td>20.0</td>\n",
       "      <td>14.0</td>\n",
       "      <td>1</td>\n",
       "      <td>1.0</td>\n",
       "      <td>1.0</td>\n",
       "      <td>1.0</td>\n",
       "      <td>1.0</td>\n",
       "      <td>0</td>\n",
       "      <td>0</td>\n",
       "      <td>0</td>\n",
       "      <td>0</td>\n",
       "    </tr>\n",
       "    <tr>\n",
       "      <th>2</th>\n",
       "      <td>0</td>\n",
       "      <td>49</td>\n",
       "      <td>4</td>\n",
       "      <td>spirit</td>\n",
       "      <td>4.0</td>\n",
       "      <td>1.0</td>\n",
       "      <td>0.0</td>\n",
       "      <td>22.0</td>\n",
       "      <td>1.0</td>\n",
       "      <td>1</td>\n",
       "      <td>1.0</td>\n",
       "      <td>1.0</td>\n",
       "      <td>0.0</td>\n",
       "      <td>0.0</td>\n",
       "      <td>0</td>\n",
       "      <td>0</td>\n",
       "      <td>0</td>\n",
       "      <td>0</td>\n",
       "    </tr>\n",
       "    <tr>\n",
       "      <th>3</th>\n",
       "      <td>0</td>\n",
       "      <td>24</td>\n",
       "      <td>12</td>\n",
       "      <td>other</td>\n",
       "      <td>2.0</td>\n",
       "      <td>1.0</td>\n",
       "      <td>0.0</td>\n",
       "      <td>0.0</td>\n",
       "      <td>-1.0</td>\n",
       "      <td>1</td>\n",
       "      <td>1.0</td>\n",
       "      <td>1.0</td>\n",
       "      <td>1.0</td>\n",
       "      <td>1.0</td>\n",
       "      <td>1</td>\n",
       "      <td>0</td>\n",
       "      <td>0</td>\n",
       "      <td>0</td>\n",
       "    </tr>\n",
       "    <tr>\n",
       "      <th>4</th>\n",
       "      <td>3</td>\n",
       "      <td>32</td>\n",
       "      <td>13</td>\n",
       "      <td>other</td>\n",
       "      <td>3.0</td>\n",
       "      <td>1.0</td>\n",
       "      <td>1.0</td>\n",
       "      <td>24.0</td>\n",
       "      <td>12.0</td>\n",
       "      <td>1</td>\n",
       "      <td>1.0</td>\n",
       "      <td>1.0</td>\n",
       "      <td>1.0</td>\n",
       "      <td>1.0</td>\n",
       "      <td>0</td>\n",
       "      <td>0</td>\n",
       "      <td>0</td>\n",
       "      <td>0</td>\n",
       "    </tr>\n",
       "  </tbody>\n",
       "</table>\n",
       "</div>"
      ],
      "text/plain": [
       "   ceb  age  educ    religion  idlnchld  knowmeth  usemeth  agefm  heduc  \\\n",
       "0    0   18    10    catholic       4.0       1.0      1.0    0.0   -1.0   \n",
       "1    2   43    11  protestant       2.0       1.0      1.0   20.0   14.0   \n",
       "2    0   49     4      spirit       4.0       1.0      0.0   22.0    1.0   \n",
       "3    0   24    12       other       2.0       1.0      0.0    0.0   -1.0   \n",
       "4    3   32    13       other       3.0       1.0      1.0   24.0   12.0   \n",
       "\n",
       "   urban  electric  radio   tv  bicycle  nevermarr  idlnchld_noans  \\\n",
       "0      1       1.0    1.0  1.0      1.0          1               0   \n",
       "1      1       1.0    1.0  1.0      1.0          0               0   \n",
       "2      1       1.0    1.0  0.0      0.0          0               0   \n",
       "3      1       1.0    1.0  1.0      1.0          1               0   \n",
       "4      1       1.0    1.0  1.0      1.0          0               0   \n",
       "\n",
       "   usemeth_noans  heduc_noans  \n",
       "0              0            0  \n",
       "1              0            0  \n",
       "2              0            0  \n",
       "3              0            0  \n",
       "4              0            0  "
      ]
     },
     "execution_count": 18,
     "metadata": {},
     "output_type": "execute_result"
    }
   ],
   "source": [
    "raw.head()"
   ]
  },
  {
   "cell_type": "code",
   "execution_count": 19,
   "metadata": {},
   "outputs": [],
   "source": [
    "data = raw.dropna()"
   ]
  },
  {
   "cell_type": "code",
   "execution_count": 20,
   "metadata": {},
   "outputs": [
    {
     "data": {
      "text/plain": [
       "(4348, 18)"
      ]
     },
     "execution_count": 20,
     "metadata": {},
     "output_type": "execute_result"
    }
   ],
   "source": [
    "data.shape"
   ]
  },
  {
   "cell_type": "code",
   "execution_count": 127,
   "metadata": {},
   "outputs": [
    {
     "name": "stdout",
     "output_type": "stream",
     "text": [
      "                            OLS Regression Results                            \n",
      "==============================================================================\n",
      "Dep. Variable:                    ceb   R-squared:                       0.644\n",
      "Model:                            OLS   Adj. R-squared:                  0.643\n",
      "Method:                 Least Squares   F-statistic:                     412.5\n",
      "Date:                Sun, 02 Apr 2017   Prob (F-statistic):               0.00\n",
      "Time:                        19:46:49   Log-Likelihood:                -7732.1\n",
      "No. Observations:                4348   AIC:                         1.550e+04\n",
      "Df Residuals:                    4328   BIC:                         1.563e+04\n",
      "Df Model:                          19                                         \n",
      "Covariance Type:            nonrobust                                         \n",
      "==========================================================================================\n",
      "                             coef    std err          t      P>|t|      [95.0% Conf. Int.]\n",
      "------------------------------------------------------------------------------------------\n",
      "Intercept                 -1.0263      0.212     -4.835      0.000        -1.443    -0.610\n",
      "religion[T.other]         -0.0830      0.083     -1.001      0.317        -0.245     0.080\n",
      "religion[T.protestant]    -0.0149      0.082     -0.181      0.857        -0.176     0.146\n",
      "religion[T.spirit]        -0.0191      0.077     -0.248      0.804        -0.171     0.132\n",
      "age                        0.1703      0.003     51.891      0.000         0.164     0.177\n",
      "educ                      -0.0724      0.007     -9.843      0.000        -0.087    -0.058\n",
      "idlnchld                   0.0760      0.011      6.923      0.000         0.054     0.098\n",
      "knowmeth                   0.5564      0.121      4.580      0.000         0.318     0.795\n",
      "usemeth                    0.6473      0.048     13.424      0.000         0.553     0.742\n",
      "agefm                     -0.0604      0.007     -9.213      0.000        -0.073    -0.048\n",
      "heduc                     -0.0551      0.008     -6.838      0.000        -0.071    -0.039\n",
      "urban                     -0.2137      0.047     -4.527      0.000        -0.306    -0.121\n",
      "electric                  -0.2685      0.077     -3.479      0.001        -0.420    -0.117\n",
      "radio                     -0.0235      0.051     -0.461      0.645        -0.123     0.076\n",
      "tv                        -0.1451      0.093     -1.566      0.118        -0.327     0.037\n",
      "bicycle                    0.2139      0.050      4.260      0.000         0.115     0.312\n",
      "nevermarr                 -2.2393      0.148    -15.143      0.000        -2.529    -1.949\n",
      "idlnchld_noans             0.6539      0.153      4.286      0.000         0.355     0.953\n",
      "usemeth_noans              0.7652      0.196      3.910      0.000         0.382     1.149\n",
      "heduc_noans               -0.8724      0.145     -6.026      0.000        -1.156    -0.589\n",
      "==============================================================================\n",
      "Omnibus:                      224.411   Durbin-Watson:                   1.887\n",
      "Prob(Omnibus):                  0.000   Jarque-Bera (JB):              859.014\n",
      "Skew:                           0.003   Prob(JB):                    2.93e-187\n",
      "Kurtosis:                       5.178   Cond. No.                         361.\n",
      "==============================================================================\n",
      "\n",
      "Warnings:\n",
      "[1] Standard Errors assume that the covariance matrix of the errors is correctly specified.\n"
     ]
    }
   ],
   "source": [
    "m1 = smf.ols('ceb ~ age + educ + religion + idlnchld + knowmeth + usemeth +'\\\n",
    "            'agefm + heduc + urban + electric + radio + tv + bicycle +'\\\n",
    "            'nevermarr + idlnchld_noans + usemeth_noans + heduc_noans', \n",
    "             data=data)\n",
    "fitted = m1.fit()\n",
    "print fitted.summary()"
   ]
  },
  {
   "cell_type": "code",
   "execution_count": 120,
   "metadata": {},
   "outputs": [
    {
     "name": "stdout",
     "output_type": "stream",
     "text": [
      "Breusch-Pagan test: p=0.000000\n"
     ]
    }
   ],
   "source": [
    "print 'Breusch-Pagan test: p=%f' % sms.het_breushpagan(fitted.resid, fitted.model.exog)[1]"
   ]
  },
  {
   "cell_type": "code",
   "execution_count": 136,
   "metadata": {},
   "outputs": [
    {
     "name": "stdout",
     "output_type": "stream",
     "text": [
      "                            OLS Regression Results                            \n",
      "==============================================================================\n",
      "Dep. Variable:                    ceb   R-squared:                       0.644\n",
      "Model:                            OLS   Adj. R-squared:                  0.643\n",
      "Method:                 Least Squares   F-statistic:                     463.4\n",
      "Date:                Sun, 02 Apr 2017   Prob (F-statistic):               0.00\n",
      "Time:                        19:54:22   Log-Likelihood:                -7734.5\n",
      "No. Observations:                4348   AIC:                         1.550e+04\n",
      "Df Residuals:                    4333   BIC:                         1.559e+04\n",
      "Df Model:                          14                                         \n",
      "Covariance Type:                  HC1                                         \n",
      "==================================================================================\n",
      "                     coef    std err          z      P>|z|      [95.0% Conf. Int.]\n",
      "----------------------------------------------------------------------------------\n",
      "Intercept         -1.0698      0.258     -4.152      0.000        -1.575    -0.565\n",
      "age                0.1702      0.004     38.746      0.000         0.162     0.179\n",
      "educ              -0.0729      0.007    -10.311      0.000        -0.087    -0.059\n",
      "idlnchld           0.0770      0.014      5.323      0.000         0.049     0.105\n",
      "knowmeth           0.5610      0.174      3.224      0.001         0.220     0.902\n",
      "usemeth            0.6516      0.052     12.571      0.000         0.550     0.753\n",
      "agefm             -0.0606      0.010     -6.192      0.000        -0.080    -0.041\n",
      "heduc             -0.0573      0.009     -6.440      0.000        -0.075    -0.040\n",
      "urban             -0.2190      0.045     -4.814      0.000        -0.308    -0.130\n",
      "electric          -0.3207      0.063     -5.076      0.000        -0.445    -0.197\n",
      "bicycle            0.2046      0.048      4.279      0.000         0.111     0.298\n",
      "nevermarr         -2.2501      0.202    -11.158      0.000        -2.645    -1.855\n",
      "idlnchld_noans     0.6565      0.216      3.043      0.002         0.234     1.079\n",
      "usemeth_noans      0.7732      0.212      3.639      0.000         0.357     1.190\n",
      "heduc_noans       -0.8853      0.191     -4.638      0.000        -1.259    -0.511\n",
      "==============================================================================\n",
      "Omnibus:                      224.096   Durbin-Watson:                   1.886\n",
      "Prob(Omnibus):                  0.000   Jarque-Bera (JB):              856.760\n",
      "Skew:                           0.004   Prob(JB):                    9.06e-187\n",
      "Kurtosis:                       5.175   Cond. No.                         345.\n",
      "==============================================================================\n",
      "\n",
      "Warnings:\n",
      "[1] Standard Errors are heteroscedasticity robust (HC1)\n"
     ]
    }
   ],
   "source": [
    "m2 = smf.ols('ceb ~ age + educ  + idlnchld + knowmeth + usemeth +'\\\n",
    "            'agefm + heduc + urban + electric + bicycle +'\\\n",
    "            'nevermarr + idlnchld_noans + usemeth_noans + heduc_noans', \n",
    "             data=data)\n",
    "fitted = m2.fit(cov_type='HC1')\n",
    "print fitted.summary()"
   ]
  },
  {
   "cell_type": "code",
   "execution_count": 131,
   "metadata": {
    "collapsed": true
   },
   "outputs": [],
   "source": [
    "m3 = smf.ols('ceb ~ age + educ + idlnchld + knowmeth + usemeth +'\\\n",
    "            'agefm + heduc + urban + electric + bicycle +'\\\n",
    "            'nevermarr + idlnchld_noans + usemeth_noans + heduc_noans', \n",
    "             data=data)\n",
    "fitted = m3.fit(cov_type='HC1')\n",
    "#print fitted.summary()"
   ]
  },
  {
   "cell_type": "code",
   "execution_count": 132,
   "metadata": {},
   "outputs": [
    {
     "name": "stdout",
     "output_type": "stream",
     "text": [
      "F=0.919236, p=0.467231, k1=5.000000\n"
     ]
    }
   ],
   "source": [
    "print \"F=%f, p=%f, k1=%f\" % m2.fit().compare_f_test(m3.fit())"
   ]
  },
  {
   "cell_type": "code",
   "execution_count": 137,
   "metadata": {
    "collapsed": true
   },
   "outputs": [],
   "source": [
    "m4 = smf.ols('ceb ~ age + educ + idlnchld + knowmeth +'\\\n",
    "            'agefm + heduc + urban + electric + bicycle +'\\\n",
    "            'nevermarr + idlnchld_noans + heduc_noans', \n",
    "             data=data)\n",
    "fitted = m4.fit(cov_type='HC1')\n",
    "#print fitted.summary()"
   ]
  },
  {
   "cell_type": "code",
   "execution_count": 138,
   "metadata": {},
   "outputs": [
    {
     "name": "stdout",
     "output_type": "stream",
     "text": [
      "F=92.890582, p=0.000000, k1=2.000000\n"
     ]
    }
   ],
   "source": [
    "print \"F=%f, p=%f, k1=%f\" % m2.fit().compare_f_test(m4.fit())"
   ]
  },
  {
   "cell_type": "code",
   "execution_count": 139,
   "metadata": {},
   "outputs": [
    {
     "name": "stdout",
     "output_type": "stream",
     "text": [
      "3.15520094804e-40\n"
     ]
    }
   ],
   "source": [
    "F,p,K1 = m2.fit().compare_f_test(m4.fit())\n",
    "print p"
   ]
  },
  {
   "cell_type": "code",
   "execution_count": null,
   "metadata": {
    "collapsed": true
   },
   "outputs": [],
   "source": []
  }
 ],
 "metadata": {
  "kernelspec": {
   "display_name": "Python 3",
   "language": "python",
   "name": "python3"
  },
  "language_info": {
   "codemirror_mode": {
    "name": "ipython",
    "version": 3
   },
   "file_extension": ".py",
   "mimetype": "text/x-python",
   "name": "python",
   "nbconvert_exporter": "python",
   "pygments_lexer": "ipython3",
   "version": "3.6.1"
  }
 },
 "nbformat": 4,
 "nbformat_minor": 1
}
