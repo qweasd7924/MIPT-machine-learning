{
 "cells": [
  {
   "cell_type": "markdown",
   "metadata": {},
   "source": [
    "# AB-testing on real users"
   ]
  },
  {
   "cell_type": "code",
   "execution_count": 93,
   "metadata": {
    "collapsed": true
   },
   "outputs": [],
   "source": [
    "import numpy as np\n",
    "import pandas as pd\n",
    "import scipy.stats\n",
    "import statsmodels.stats.multitest as smm\n",
    "\n",
    "import matplotlib.pyplot as plt"
   ]
  },
  {
   "cell_type": "code",
   "execution_count": 2,
   "metadata": {
    "collapsed": true
   },
   "outputs": [],
   "source": [
    "ab_browser = pd.read_csv('./ab_browser_test.csv')"
   ]
  },
  {
   "cell_type": "code",
   "execution_count": 3,
   "metadata": {},
   "outputs": [
    {
     "data": {
      "text/html": [
       "<div>\n",
       "<style>\n",
       "    .dataframe thead tr:only-child th {\n",
       "        text-align: right;\n",
       "    }\n",
       "\n",
       "    .dataframe thead th {\n",
       "        text-align: left;\n",
       "    }\n",
       "\n",
       "    .dataframe tbody tr th {\n",
       "        vertical-align: top;\n",
       "    }\n",
       "</style>\n",
       "<table border=\"1\" class=\"dataframe\">\n",
       "  <thead>\n",
       "    <tr style=\"text-align: right;\">\n",
       "      <th></th>\n",
       "      <th>userID</th>\n",
       "      <th>browser</th>\n",
       "      <th>slot</th>\n",
       "      <th>n_clicks</th>\n",
       "      <th>n_queries</th>\n",
       "      <th>n_nonclk_queries</th>\n",
       "    </tr>\n",
       "  </thead>\n",
       "  <tbody>\n",
       "    <tr>\n",
       "      <th>0</th>\n",
       "      <td>1</td>\n",
       "      <td>Browser #2</td>\n",
       "      <td>exp</td>\n",
       "      <td>23</td>\n",
       "      <td>32</td>\n",
       "      <td>19</td>\n",
       "    </tr>\n",
       "    <tr>\n",
       "      <th>1</th>\n",
       "      <td>3</td>\n",
       "      <td>Browser #4</td>\n",
       "      <td>exp</td>\n",
       "      <td>3</td>\n",
       "      <td>4</td>\n",
       "      <td>2</td>\n",
       "    </tr>\n",
       "    <tr>\n",
       "      <th>2</th>\n",
       "      <td>5</td>\n",
       "      <td>Browser #4</td>\n",
       "      <td>exp</td>\n",
       "      <td>29</td>\n",
       "      <td>35</td>\n",
       "      <td>16</td>\n",
       "    </tr>\n",
       "    <tr>\n",
       "      <th>3</th>\n",
       "      <td>6</td>\n",
       "      <td>Browser #4</td>\n",
       "      <td>control</td>\n",
       "      <td>12</td>\n",
       "      <td>6</td>\n",
       "      <td>0</td>\n",
       "    </tr>\n",
       "    <tr>\n",
       "      <th>4</th>\n",
       "      <td>7</td>\n",
       "      <td>Browser #4</td>\n",
       "      <td>exp</td>\n",
       "      <td>54</td>\n",
       "      <td>68</td>\n",
       "      <td>30</td>\n",
       "    </tr>\n",
       "    <tr>\n",
       "      <th>5</th>\n",
       "      <td>8</td>\n",
       "      <td>Browser #4</td>\n",
       "      <td>control</td>\n",
       "      <td>4</td>\n",
       "      <td>4</td>\n",
       "      <td>1</td>\n",
       "    </tr>\n",
       "    <tr>\n",
       "      <th>6</th>\n",
       "      <td>9</td>\n",
       "      <td>Browser #4</td>\n",
       "      <td>exp</td>\n",
       "      <td>6</td>\n",
       "      <td>3</td>\n",
       "      <td>1</td>\n",
       "    </tr>\n",
       "    <tr>\n",
       "      <th>7</th>\n",
       "      <td>10</td>\n",
       "      <td>Browser #4</td>\n",
       "      <td>control</td>\n",
       "      <td>22</td>\n",
       "      <td>15</td>\n",
       "      <td>2</td>\n",
       "    </tr>\n",
       "    <tr>\n",
       "      <th>8</th>\n",
       "      <td>13</td>\n",
       "      <td>Browser #14</td>\n",
       "      <td>exp</td>\n",
       "      <td>2</td>\n",
       "      <td>4</td>\n",
       "      <td>3</td>\n",
       "    </tr>\n",
       "    <tr>\n",
       "      <th>9</th>\n",
       "      <td>15</td>\n",
       "      <td>Browser #14</td>\n",
       "      <td>control</td>\n",
       "      <td>2</td>\n",
       "      <td>2</td>\n",
       "      <td>0</td>\n",
       "    </tr>\n",
       "    <tr>\n",
       "      <th>10</th>\n",
       "      <td>16</td>\n",
       "      <td>Browser #17</td>\n",
       "      <td>exp</td>\n",
       "      <td>7</td>\n",
       "      <td>5</td>\n",
       "      <td>2</td>\n",
       "    </tr>\n",
       "    <tr>\n",
       "      <th>11</th>\n",
       "      <td>19</td>\n",
       "      <td>Browser #20</td>\n",
       "      <td>exp</td>\n",
       "      <td>4</td>\n",
       "      <td>5</td>\n",
       "      <td>2</td>\n",
       "    </tr>\n",
       "    <tr>\n",
       "      <th>12</th>\n",
       "      <td>21</td>\n",
       "      <td>Browser #22</td>\n",
       "      <td>exp</td>\n",
       "      <td>2</td>\n",
       "      <td>4</td>\n",
       "      <td>2</td>\n",
       "    </tr>\n",
       "    <tr>\n",
       "      <th>13</th>\n",
       "      <td>23</td>\n",
       "      <td>Browser #4</td>\n",
       "      <td>control</td>\n",
       "      <td>3</td>\n",
       "      <td>1</td>\n",
       "      <td>0</td>\n",
       "    </tr>\n",
       "    <tr>\n",
       "      <th>14</th>\n",
       "      <td>24</td>\n",
       "      <td>Browser #22</td>\n",
       "      <td>exp</td>\n",
       "      <td>21</td>\n",
       "      <td>15</td>\n",
       "      <td>6</td>\n",
       "    </tr>\n",
       "    <tr>\n",
       "      <th>15</th>\n",
       "      <td>25</td>\n",
       "      <td>Browser #4</td>\n",
       "      <td>control</td>\n",
       "      <td>36</td>\n",
       "      <td>59</td>\n",
       "      <td>34</td>\n",
       "    </tr>\n",
       "    <tr>\n",
       "      <th>16</th>\n",
       "      <td>26</td>\n",
       "      <td>Browser #4</td>\n",
       "      <td>exp</td>\n",
       "      <td>10</td>\n",
       "      <td>20</td>\n",
       "      <td>13</td>\n",
       "    </tr>\n",
       "    <tr>\n",
       "      <th>17</th>\n",
       "      <td>27</td>\n",
       "      <td>Browser #22</td>\n",
       "      <td>exp</td>\n",
       "      <td>25</td>\n",
       "      <td>32</td>\n",
       "      <td>17</td>\n",
       "    </tr>\n",
       "    <tr>\n",
       "      <th>18</th>\n",
       "      <td>28</td>\n",
       "      <td>Browser #4</td>\n",
       "      <td>exp</td>\n",
       "      <td>72</td>\n",
       "      <td>97</td>\n",
       "      <td>64</td>\n",
       "    </tr>\n",
       "    <tr>\n",
       "      <th>19</th>\n",
       "      <td>29</td>\n",
       "      <td>Browser #2</td>\n",
       "      <td>control</td>\n",
       "      <td>9</td>\n",
       "      <td>9</td>\n",
       "      <td>3</td>\n",
       "    </tr>\n",
       "    <tr>\n",
       "      <th>20</th>\n",
       "      <td>30</td>\n",
       "      <td>Browser #14</td>\n",
       "      <td>exp</td>\n",
       "      <td>4</td>\n",
       "      <td>4</td>\n",
       "      <td>0</td>\n",
       "    </tr>\n",
       "    <tr>\n",
       "      <th>21</th>\n",
       "      <td>31</td>\n",
       "      <td>Browser #2</td>\n",
       "      <td>exp</td>\n",
       "      <td>7</td>\n",
       "      <td>12</td>\n",
       "      <td>6</td>\n",
       "    </tr>\n",
       "    <tr>\n",
       "      <th>22</th>\n",
       "      <td>32</td>\n",
       "      <td>Browser #2</td>\n",
       "      <td>control</td>\n",
       "      <td>3</td>\n",
       "      <td>5</td>\n",
       "      <td>3</td>\n",
       "    </tr>\n",
       "    <tr>\n",
       "      <th>23</th>\n",
       "      <td>33</td>\n",
       "      <td>Browser #14</td>\n",
       "      <td>exp</td>\n",
       "      <td>22</td>\n",
       "      <td>9</td>\n",
       "      <td>2</td>\n",
       "    </tr>\n",
       "    <tr>\n",
       "      <th>24</th>\n",
       "      <td>34</td>\n",
       "      <td>Browser #20</td>\n",
       "      <td>control</td>\n",
       "      <td>7</td>\n",
       "      <td>3</td>\n",
       "      <td>1</td>\n",
       "    </tr>\n",
       "    <tr>\n",
       "      <th>25</th>\n",
       "      <td>35</td>\n",
       "      <td>Browser #4</td>\n",
       "      <td>control</td>\n",
       "      <td>5</td>\n",
       "      <td>3</td>\n",
       "      <td>1</td>\n",
       "    </tr>\n",
       "    <tr>\n",
       "      <th>26</th>\n",
       "      <td>36</td>\n",
       "      <td>Browser #4</td>\n",
       "      <td>exp</td>\n",
       "      <td>3</td>\n",
       "      <td>6</td>\n",
       "      <td>3</td>\n",
       "    </tr>\n",
       "    <tr>\n",
       "      <th>27</th>\n",
       "      <td>37</td>\n",
       "      <td>Browser #4</td>\n",
       "      <td>exp</td>\n",
       "      <td>1</td>\n",
       "      <td>5</td>\n",
       "      <td>4</td>\n",
       "    </tr>\n",
       "    <tr>\n",
       "      <th>28</th>\n",
       "      <td>38</td>\n",
       "      <td>Browser #2</td>\n",
       "      <td>exp</td>\n",
       "      <td>39</td>\n",
       "      <td>23</td>\n",
       "      <td>8</td>\n",
       "    </tr>\n",
       "    <tr>\n",
       "      <th>29</th>\n",
       "      <td>39</td>\n",
       "      <td>Browser #14</td>\n",
       "      <td>control</td>\n",
       "      <td>0</td>\n",
       "      <td>2</td>\n",
       "      <td>2</td>\n",
       "    </tr>\n",
       "    <tr>\n",
       "      <th>...</th>\n",
       "      <td>...</td>\n",
       "      <td>...</td>\n",
       "      <td>...</td>\n",
       "      <td>...</td>\n",
       "      <td>...</td>\n",
       "      <td>...</td>\n",
       "    </tr>\n",
       "    <tr>\n",
       "      <th>566104</th>\n",
       "      <td>603108</td>\n",
       "      <td>Browser #4</td>\n",
       "      <td>exp</td>\n",
       "      <td>2</td>\n",
       "      <td>1</td>\n",
       "      <td>0</td>\n",
       "    </tr>\n",
       "    <tr>\n",
       "      <th>566105</th>\n",
       "      <td>603109</td>\n",
       "      <td>Browser #2</td>\n",
       "      <td>control</td>\n",
       "      <td>11</td>\n",
       "      <td>11</td>\n",
       "      <td>3</td>\n",
       "    </tr>\n",
       "    <tr>\n",
       "      <th>566106</th>\n",
       "      <td>603110</td>\n",
       "      <td>Browser #20</td>\n",
       "      <td>control</td>\n",
       "      <td>2</td>\n",
       "      <td>2</td>\n",
       "      <td>1</td>\n",
       "    </tr>\n",
       "    <tr>\n",
       "      <th>566107</th>\n",
       "      <td>603111</td>\n",
       "      <td>Browser #4</td>\n",
       "      <td>control</td>\n",
       "      <td>5</td>\n",
       "      <td>3</td>\n",
       "      <td>0</td>\n",
       "    </tr>\n",
       "    <tr>\n",
       "      <th>566108</th>\n",
       "      <td>603112</td>\n",
       "      <td>Browser #22</td>\n",
       "      <td>exp</td>\n",
       "      <td>2</td>\n",
       "      <td>1</td>\n",
       "      <td>0</td>\n",
       "    </tr>\n",
       "    <tr>\n",
       "      <th>566109</th>\n",
       "      <td>603113</td>\n",
       "      <td>Browser #4</td>\n",
       "      <td>control</td>\n",
       "      <td>2</td>\n",
       "      <td>2</td>\n",
       "      <td>0</td>\n",
       "    </tr>\n",
       "    <tr>\n",
       "      <th>566110</th>\n",
       "      <td>603114</td>\n",
       "      <td>Browser #4</td>\n",
       "      <td>control</td>\n",
       "      <td>3</td>\n",
       "      <td>2</td>\n",
       "      <td>1</td>\n",
       "    </tr>\n",
       "    <tr>\n",
       "      <th>566111</th>\n",
       "      <td>603115</td>\n",
       "      <td>Browser #4</td>\n",
       "      <td>control</td>\n",
       "      <td>3</td>\n",
       "      <td>4</td>\n",
       "      <td>2</td>\n",
       "    </tr>\n",
       "    <tr>\n",
       "      <th>566112</th>\n",
       "      <td>603116</td>\n",
       "      <td>Browser #4</td>\n",
       "      <td>control</td>\n",
       "      <td>1</td>\n",
       "      <td>6</td>\n",
       "      <td>5</td>\n",
       "    </tr>\n",
       "    <tr>\n",
       "      <th>566113</th>\n",
       "      <td>603117</td>\n",
       "      <td>Browser #2</td>\n",
       "      <td>control</td>\n",
       "      <td>10</td>\n",
       "      <td>3</td>\n",
       "      <td>0</td>\n",
       "    </tr>\n",
       "    <tr>\n",
       "      <th>566114</th>\n",
       "      <td>603118</td>\n",
       "      <td>Browser #20</td>\n",
       "      <td>control</td>\n",
       "      <td>3</td>\n",
       "      <td>1</td>\n",
       "      <td>0</td>\n",
       "    </tr>\n",
       "    <tr>\n",
       "      <th>566115</th>\n",
       "      <td>603119</td>\n",
       "      <td>Browser #17</td>\n",
       "      <td>control</td>\n",
       "      <td>0</td>\n",
       "      <td>1</td>\n",
       "      <td>1</td>\n",
       "    </tr>\n",
       "    <tr>\n",
       "      <th>566116</th>\n",
       "      <td>603120</td>\n",
       "      <td>Browser #22</td>\n",
       "      <td>exp</td>\n",
       "      <td>0</td>\n",
       "      <td>1</td>\n",
       "      <td>1</td>\n",
       "    </tr>\n",
       "    <tr>\n",
       "      <th>566117</th>\n",
       "      <td>603121</td>\n",
       "      <td>Browser #22</td>\n",
       "      <td>control</td>\n",
       "      <td>0</td>\n",
       "      <td>1</td>\n",
       "      <td>1</td>\n",
       "    </tr>\n",
       "    <tr>\n",
       "      <th>566118</th>\n",
       "      <td>603122</td>\n",
       "      <td>Browser #14</td>\n",
       "      <td>control</td>\n",
       "      <td>3</td>\n",
       "      <td>4</td>\n",
       "      <td>1</td>\n",
       "    </tr>\n",
       "    <tr>\n",
       "      <th>566119</th>\n",
       "      <td>603123</td>\n",
       "      <td>Browser #22</td>\n",
       "      <td>control</td>\n",
       "      <td>1</td>\n",
       "      <td>1</td>\n",
       "      <td>0</td>\n",
       "    </tr>\n",
       "    <tr>\n",
       "      <th>566120</th>\n",
       "      <td>603124</td>\n",
       "      <td>Browser #22</td>\n",
       "      <td>control</td>\n",
       "      <td>4</td>\n",
       "      <td>2</td>\n",
       "      <td>0</td>\n",
       "    </tr>\n",
       "    <tr>\n",
       "      <th>566121</th>\n",
       "      <td>603125</td>\n",
       "      <td>Browser #22</td>\n",
       "      <td>control</td>\n",
       "      <td>1</td>\n",
       "      <td>2</td>\n",
       "      <td>1</td>\n",
       "    </tr>\n",
       "    <tr>\n",
       "      <th>566122</th>\n",
       "      <td>603126</td>\n",
       "      <td>Browser #20</td>\n",
       "      <td>control</td>\n",
       "      <td>4</td>\n",
       "      <td>1</td>\n",
       "      <td>0</td>\n",
       "    </tr>\n",
       "    <tr>\n",
       "      <th>566123</th>\n",
       "      <td>603127</td>\n",
       "      <td>Browser #2</td>\n",
       "      <td>exp</td>\n",
       "      <td>0</td>\n",
       "      <td>1</td>\n",
       "      <td>1</td>\n",
       "    </tr>\n",
       "    <tr>\n",
       "      <th>566124</th>\n",
       "      <td>603128</td>\n",
       "      <td>Browser #14</td>\n",
       "      <td>control</td>\n",
       "      <td>5</td>\n",
       "      <td>4</td>\n",
       "      <td>2</td>\n",
       "    </tr>\n",
       "    <tr>\n",
       "      <th>566125</th>\n",
       "      <td>603129</td>\n",
       "      <td>Browser #4</td>\n",
       "      <td>exp</td>\n",
       "      <td>0</td>\n",
       "      <td>1</td>\n",
       "      <td>1</td>\n",
       "    </tr>\n",
       "    <tr>\n",
       "      <th>566126</th>\n",
       "      <td>603130</td>\n",
       "      <td>Browser #17</td>\n",
       "      <td>exp</td>\n",
       "      <td>0</td>\n",
       "      <td>1</td>\n",
       "      <td>1</td>\n",
       "    </tr>\n",
       "    <tr>\n",
       "      <th>566127</th>\n",
       "      <td>603131</td>\n",
       "      <td>Browser #2</td>\n",
       "      <td>exp</td>\n",
       "      <td>4</td>\n",
       "      <td>4</td>\n",
       "      <td>1</td>\n",
       "    </tr>\n",
       "    <tr>\n",
       "      <th>566128</th>\n",
       "      <td>603132</td>\n",
       "      <td>Browser #22</td>\n",
       "      <td>control</td>\n",
       "      <td>1</td>\n",
       "      <td>1</td>\n",
       "      <td>0</td>\n",
       "    </tr>\n",
       "    <tr>\n",
       "      <th>566129</th>\n",
       "      <td>603133</td>\n",
       "      <td>Browser #14</td>\n",
       "      <td>control</td>\n",
       "      <td>1</td>\n",
       "      <td>2</td>\n",
       "      <td>1</td>\n",
       "    </tr>\n",
       "    <tr>\n",
       "      <th>566130</th>\n",
       "      <td>603134</td>\n",
       "      <td>Browser #2</td>\n",
       "      <td>exp</td>\n",
       "      <td>4</td>\n",
       "      <td>2</td>\n",
       "      <td>0</td>\n",
       "    </tr>\n",
       "    <tr>\n",
       "      <th>566131</th>\n",
       "      <td>603135</td>\n",
       "      <td>Browser #4</td>\n",
       "      <td>control</td>\n",
       "      <td>0</td>\n",
       "      <td>1</td>\n",
       "      <td>1</td>\n",
       "    </tr>\n",
       "    <tr>\n",
       "      <th>566132</th>\n",
       "      <td>603136</td>\n",
       "      <td>Browser #4</td>\n",
       "      <td>control</td>\n",
       "      <td>2</td>\n",
       "      <td>3</td>\n",
       "      <td>1</td>\n",
       "    </tr>\n",
       "    <tr>\n",
       "      <th>566133</th>\n",
       "      <td>603137</td>\n",
       "      <td>Browser #2</td>\n",
       "      <td>exp</td>\n",
       "      <td>3</td>\n",
       "      <td>1</td>\n",
       "      <td>0</td>\n",
       "    </tr>\n",
       "  </tbody>\n",
       "</table>\n",
       "<p>566134 rows × 6 columns</p>\n",
       "</div>"
      ],
      "text/plain": [
       "        userID      browser     slot  n_clicks  n_queries  n_nonclk_queries\n",
       "0            1   Browser #2      exp        23         32                19\n",
       "1            3   Browser #4      exp         3          4                 2\n",
       "2            5   Browser #4      exp        29         35                16\n",
       "3            6   Browser #4  control        12          6                 0\n",
       "4            7   Browser #4      exp        54         68                30\n",
       "5            8   Browser #4  control         4          4                 1\n",
       "6            9   Browser #4      exp         6          3                 1\n",
       "7           10   Browser #4  control        22         15                 2\n",
       "8           13  Browser #14      exp         2          4                 3\n",
       "9           15  Browser #14  control         2          2                 0\n",
       "10          16  Browser #17      exp         7          5                 2\n",
       "11          19  Browser #20      exp         4          5                 2\n",
       "12          21  Browser #22      exp         2          4                 2\n",
       "13          23   Browser #4  control         3          1                 0\n",
       "14          24  Browser #22      exp        21         15                 6\n",
       "15          25   Browser #4  control        36         59                34\n",
       "16          26   Browser #4      exp        10         20                13\n",
       "17          27  Browser #22      exp        25         32                17\n",
       "18          28   Browser #4      exp        72         97                64\n",
       "19          29   Browser #2  control         9          9                 3\n",
       "20          30  Browser #14      exp         4          4                 0\n",
       "21          31   Browser #2      exp         7         12                 6\n",
       "22          32   Browser #2  control         3          5                 3\n",
       "23          33  Browser #14      exp        22          9                 2\n",
       "24          34  Browser #20  control         7          3                 1\n",
       "25          35   Browser #4  control         5          3                 1\n",
       "26          36   Browser #4      exp         3          6                 3\n",
       "27          37   Browser #4      exp         1          5                 4\n",
       "28          38   Browser #2      exp        39         23                 8\n",
       "29          39  Browser #14  control         0          2                 2\n",
       "...        ...          ...      ...       ...        ...               ...\n",
       "566104  603108   Browser #4      exp         2          1                 0\n",
       "566105  603109   Browser #2  control        11         11                 3\n",
       "566106  603110  Browser #20  control         2          2                 1\n",
       "566107  603111   Browser #4  control         5          3                 0\n",
       "566108  603112  Browser #22      exp         2          1                 0\n",
       "566109  603113   Browser #4  control         2          2                 0\n",
       "566110  603114   Browser #4  control         3          2                 1\n",
       "566111  603115   Browser #4  control         3          4                 2\n",
       "566112  603116   Browser #4  control         1          6                 5\n",
       "566113  603117   Browser #2  control        10          3                 0\n",
       "566114  603118  Browser #20  control         3          1                 0\n",
       "566115  603119  Browser #17  control         0          1                 1\n",
       "566116  603120  Browser #22      exp         0          1                 1\n",
       "566117  603121  Browser #22  control         0          1                 1\n",
       "566118  603122  Browser #14  control         3          4                 1\n",
       "566119  603123  Browser #22  control         1          1                 0\n",
       "566120  603124  Browser #22  control         4          2                 0\n",
       "566121  603125  Browser #22  control         1          2                 1\n",
       "566122  603126  Browser #20  control         4          1                 0\n",
       "566123  603127   Browser #2      exp         0          1                 1\n",
       "566124  603128  Browser #14  control         5          4                 2\n",
       "566125  603129   Browser #4      exp         0          1                 1\n",
       "566126  603130  Browser #17      exp         0          1                 1\n",
       "566127  603131   Browser #2      exp         4          4                 1\n",
       "566128  603132  Browser #22  control         1          1                 0\n",
       "566129  603133  Browser #14  control         1          2                 1\n",
       "566130  603134   Browser #2      exp         4          2                 0\n",
       "566131  603135   Browser #4  control         0          1                 1\n",
       "566132  603136   Browser #4  control         2          3                 1\n",
       "566133  603137   Browser #2      exp         3          1                 0\n",
       "\n",
       "[566134 rows x 6 columns]"
      ]
     },
     "execution_count": 3,
     "metadata": {},
     "output_type": "execute_result"
    }
   ],
   "source": [
    "ab_browser"
   ]
  },
  {
   "cell_type": "markdown",
   "metadata": {},
   "source": [
    "### Task 1"
   ]
  },
  {
   "cell_type": "code",
   "execution_count": 80,
   "metadata": {},
   "outputs": [
    {
     "name": "stdout",
     "output_type": "stream",
     "text": [
      "1.6135689824415822\n"
     ]
    }
   ],
   "source": [
    "proportion = ab_browser[ab_browser.slot == 'exp']['n_clicks'].sum() / ab_browser[ab_browser.slot == 'control']['n_clicks'].sum()\n",
    "print((proportion - 1) * 100)"
   ]
  },
  {
   "cell_type": "markdown",
   "metadata": {},
   "source": [
    "### Task 2"
   ]
  },
  {
   "cell_type": "code",
   "execution_count": 14,
   "metadata": {
    "collapsed": true
   },
   "outputs": [],
   "source": [
    "exp_clicks = ab_browser[ab_browser.slot == 'exp']['n_clicks'].values\n",
    "control_clicks = ab_browser[ab_browser.slot == 'control']['n_clicks'].values"
   ]
  },
  {
   "cell_type": "code",
   "execution_count": 15,
   "metadata": {
    "collapsed": true
   },
   "outputs": [],
   "source": [
    "def get_bootstrap_samples(data, n_samples):\n",
    "    indices = np.random.randint(0, len(data), (n_samples, len(data)))\n",
    "    samples = data[indices]\n",
    "    return samples"
   ]
  },
  {
   "cell_type": "code",
   "execution_count": 16,
   "metadata": {
    "collapsed": true
   },
   "outputs": [],
   "source": [
    "def iter_bootstrap_samples(data, n_samples):\n",
    "    i = 0\n",
    "    while i < n_samples:\n",
    "        indices = np.random.randint(0, len(data), len(data))\n",
    "        sample = data[indices]\n",
    "        yield sample\n",
    "        i += 1"
   ]
  },
  {
   "cell_type": "code",
   "execution_count": 17,
   "metadata": {
    "collapsed": true
   },
   "outputs": [],
   "source": [
    "def stat_intervals(stat, alpha):\n",
    "    boundaries = np.percentile(stat, [100 * alpha / 2., 100 * (1 - alpha / 2.)])\n",
    "    return boundaries"
   ]
  },
  {
   "cell_type": "code",
   "execution_count": 18,
   "metadata": {
    "collapsed": true
   },
   "outputs": [],
   "source": [
    "np.random.seed(0)\n",
    "\n",
    "exp_boot_mean = [np.mean(sample) for sample in iter_bootstrap_samples(exp_clicks, 1000)]\n",
    "control_boot_mean = [np.mean(sample) for sample in iter_bootstrap_samples(control_clicks, 1000)]"
   ]
  },
  {
   "cell_type": "code",
   "execution_count": 19,
   "metadata": {
    "collapsed": true
   },
   "outputs": [],
   "source": [
    "np.random.seed(0)\n",
    "\n",
    "exp_boot_med = [np.median(sample) for sample in iter_bootstrap_samples(exp_clicks, 1000)]\n",
    "control_boot_med = [np.median(sample) for sample in iter_bootstrap_samples(control_clicks, 1000)]"
   ]
  },
  {
   "cell_type": "code",
   "execution_count": 20,
   "metadata": {
    "collapsed": true
   },
   "outputs": [],
   "source": [
    "delta_mean_scores = list(map(lambda x: x[0] - x[1], zip(exp_boot_mean, control_boot_mean)))\n",
    "delta_median_scores = list(map(lambda x: x[0] - x[1], zip(exp_boot_med, control_boot_med)))"
   ]
  },
  {
   "cell_type": "code",
   "execution_count": 21,
   "metadata": {},
   "outputs": [
    {
     "name": "stdout",
     "output_type": "stream",
     "text": [
      "95% confidence interval for the difference between means  [ 0.19172563  0.40475697]\n",
      "95% confidence interval for the difference between medians  [ 1.  1.]\n"
     ]
    }
   ],
   "source": [
    "print(\"95% confidence interval for the difference between means \", stat_intervals(delta_mean_scores, 0.05))\n",
    "print(\"95% confidence interval for the difference between medians \", stat_intervals(delta_median_scores, 0.05))"
   ]
  },
  {
   "cell_type": "markdown",
   "metadata": {
    "collapsed": true
   },
   "source": [
    "### Task 4"
   ]
  },
  {
   "cell_type": "code",
   "execution_count": 28,
   "metadata": {
    "collapsed": true
   },
   "outputs": [],
   "source": [
    "np.random.seed(0)\n",
    "n_boot_samples = 500\n",
    "\n",
    "means = []\n",
    "control_boot_chi_squared = []\n",
    "for sample in iter_bootstrap_samples(control_clicks, n_boot_samples):\n",
    "    means.append(sample.mean())\n",
    "    control_boot_chi_squared.append(np.sum((sample - means[-1]) ** 2))\n",
    "\n",
    "n = len(means)"
   ]
  },
  {
   "cell_type": "code",
   "execution_count": 34,
   "metadata": {},
   "outputs": [
    {
     "data": {
      "image/png": "[encoded data removed]",
      "text/plain": [
       "<matplotlib.figure.Figure at 0x1670039f668>"
      ]
     },
     "metadata": {},
     "output_type": "display_data"
    }
   ],
   "source": [
    "res = scipy.stats.probplot(means, dist=\"norm\", plot=plt)\n",
    "plt.show()"
   ]
  },
  {
   "cell_type": "code",
   "execution_count": 41,
   "metadata": {},
   "outputs": [
    {
     "data": {
      "text/plain": [
       "0.99595377420820397"
      ]
     },
     "execution_count": 41,
     "metadata": {},
     "output_type": "execute_result"
    }
   ],
   "source": [
    "r2_means = res[-1][2] ** 2\n",
    "r2_means"
   ]
  },
  {
   "cell_type": "code",
   "execution_count": 42,
   "metadata": {},
   "outputs": [
    {
     "data": {
      "image/png": "[encoded data removed]",
      "text/plain": [
       "<matplotlib.figure.Figure at 0x167003b0080>"
      ]
     },
     "metadata": {},
     "output_type": "display_data"
    }
   ],
   "source": [
    "res = scipy.stats.probplot(control_boot_chi_squared, dist=\"chi2\", sparams=(n-1), plot=plt)\n",
    "plt.show()"
   ]
  },
  {
   "cell_type": "code",
   "execution_count": 43,
   "metadata": {},
   "outputs": [
    {
     "data": {
      "text/plain": [
       "0.99728518482477191"
      ]
     },
     "execution_count": 43,
     "metadata": {},
     "output_type": "execute_result"
    }
   ],
   "source": [
    "r2_diffs = res[-1][2] ** 2\n",
    "r2_diffs"
   ]
  },
  {
   "cell_type": "markdown",
   "metadata": {},
   "source": [
    "### Task 5"
   ]
  },
  {
   "cell_type": "code",
   "execution_count": 73,
   "metadata": {
    "collapsed": true
   },
   "outputs": [],
   "source": [
    "exp_clicks = ab_browser[ab_browser.slot == 'exp']\n",
    "control_clicks = ab_browser[ab_browser.slot == 'control']"
   ]
  },
  {
   "cell_type": "code",
   "execution_count": 74,
   "metadata": {},
   "outputs": [],
   "source": [
    "exp_clicks = exp_clicks[['userID', 'n_clicks']]\n",
    "control_clicks = control_clicks[['userID', 'n_clicks']]"
   ]
  },
  {
   "cell_type": "code",
   "execution_count": 75,
   "metadata": {},
   "outputs": [
    {
     "name": "stdout",
     "output_type": "stream",
     "text": [
      "(281450,) (281580, 2)\n"
     ]
    }
   ],
   "source": [
    "sum_exp = exp_clicks.groupby(['userID'])['n_clicks'].sum()\n",
    "print(sum_exp.shape, exp_clicks.shape)"
   ]
  },
  {
   "cell_type": "code",
   "execution_count": 76,
   "metadata": {},
   "outputs": [
    {
     "name": "stdout",
     "output_type": "stream",
     "text": [
      "(284392,) (284554, 2)\n"
     ]
    }
   ],
   "source": [
    "sum_control = control_clicks.groupby(['userID'])['n_clicks'].sum()\n",
    "print(sum_control.shape, control_clicks.shape)"
   ]
  },
  {
   "cell_type": "code",
   "execution_count": 91,
   "metadata": {},
   "outputs": [
    {
     "data": {
      "text/plain": [
       "8.6942943775208786e-75"
      ]
     },
     "execution_count": 91,
     "metadata": {},
     "output_type": "execute_result"
    }
   ],
   "source": [
    "scipy.stats.mannwhitneyu(np.array(sum_control), np.array(sum_exp), alternative='two-sided')[1]"
   ]
  },
  {
   "cell_type": "markdown",
   "metadata": {},
   "source": [
    "### Task 6"
   ]
  },
  {
   "cell_type": "code",
   "execution_count": 92,
   "metadata": {},
   "outputs": [
    {
     "name": "stderr",
     "output_type": "stream",
     "text": [
      "C:\\Program Files\\Anaconda3\\lib\\site-packages\\ipykernel_launcher.py:5: UserWarning: Boolean Series key will be reindexed to match DataFrame index.\n",
      "  \"\"\"\n",
      "C:\\Program Files\\Anaconda3\\lib\\site-packages\\ipykernel_launcher.py:6: UserWarning: Boolean Series key will be reindexed to match DataFrame index.\n",
      "  \n"
     ]
    },
    {
     "name": "stdout",
     "output_type": "stream",
     "text": [
      "[0.0, 0.074801202860216034, 0.054487720839448202, 0.90733312777470754, 0.51481103044200638, 0.81521235316909968]\n"
     ]
    }
   ],
   "source": [
    "pvalues = []\n",
    "\n",
    "for curr_browser in np.unique(ab_browser.browser):\n",
    "    subsample = ab_browser[ab_browser.browser == curr_browser]\n",
    "    exp_clicks = subsample[ab_browser.slot == 'exp']['n_clicks'].values\n",
    "    control_clicks = subsample[ab_browser.slot == 'control']['n_clicks'].values\n",
    "    pvalues.append(scipy.stats.mannwhitneyu(exp_clicks, control_clicks, alternative='two-sided')[1])\n",
    "    \n",
    "print(pvalues)"
   ]
  },
  {
   "cell_type": "code",
   "execution_count": 94,
   "metadata": {},
   "outputs": [
    {
     "data": {
      "text/plain": [
       "array([ 0.        ,  0.29920481,  0.2724386 ,  1.        ,  1.        ,  1.        ])"
      ]
     },
     "execution_count": 94,
     "metadata": {},
     "output_type": "execute_result"
    }
   ],
   "source": [
    "reject, p_corrected, a1, a2 = smm.multipletests(pvalues, alpha=0.025, method='holm') \n",
    "p_corrected"
   ]
  },
  {
   "cell_type": "markdown",
   "metadata": {},
   "source": [
    "### Task 7"
   ]
  },
  {
   "cell_type": "code",
   "execution_count": 98,
   "metadata": {},
   "outputs": [
    {
     "name": "stderr",
     "output_type": "stream",
     "text": [
      "C:\\Program Files\\Anaconda3\\lib\\site-packages\\ipykernel_launcher.py:5: UserWarning: Boolean Series key will be reindexed to match DataFrame index.\n",
      "  \"\"\"\n",
      "C:\\Program Files\\Anaconda3\\lib\\site-packages\\ipykernel_launcher.py:6: UserWarning: Boolean Series key will be reindexed to match DataFrame index.\n",
      "  \n"
     ]
    },
    {
     "name": "stdout",
     "output_type": "stream",
     "text": [
      "('Browser #14', ('control', 57.590411360081141, 'exp', 43.755617361273295))\n",
      "('Browser #17', ('control', 36.299366746282089, 'exp', 36.937412848664827))\n",
      "('Browser #2', ('control', 45.96274717919465, 'exp', 44.982746948554706))\n",
      "('Browser #20', ('control', 40.540484743383296, 'exp', 38.977376483717158))\n",
      "('Browser #22', ('control', 40.593976593513354, 'exp', 39.853947219695463))\n",
      "('Browser #4', ('control', 46.970929635142738, 'exp', 45.142941903584671))\n"
     ]
    }
   ],
   "source": [
    "browsers = {}\n",
    "\n",
    "for curr_browser in np.unique(ab_browser.browser):\n",
    "    subsample = ab_browser[ab_browser.browser == curr_browser]\n",
    "    exp_clicks = 100 * subsample[ab_browser.slot == 'exp']['n_nonclk_queries'].values.sum() / subsample[ab_browser.slot == 'exp']['n_queries'].values.sum()\n",
    "    control_clicks = 100 * subsample[ab_browser.slot == 'control']['n_nonclk_queries'].values.sum() / subsample[ab_browser.slot == 'control']['n_queries'].values.sum()\n",
    "    browsers[curr_browser] = ('control', control_clicks, 'exp', exp_clicks) \n",
    "    \n",
    "for browser in browsers.items():\n",
    "    print(browser)"
   ]
  }
 ],
 "metadata": {
  "kernelspec": {
   "display_name": "Python 3",
   "language": "python",
   "name": "python3"
  },
  "language_info": {
   "codemirror_mode": {
    "name": "ipython",
    "version": 3
   },
   "file_extension": ".py",
   "mimetype": "text/x-python",
   "name": "python",
   "nbconvert_exporter": "python",
   "pygments_lexer": "ipython3",
   "version": "3.6.1"
  }
 },
 "nbformat": 4,
 "nbformat_minor": 2
}
